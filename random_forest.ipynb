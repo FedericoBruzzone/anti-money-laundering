{
 "cells": [
  {
   "cell_type": "code",
   "execution_count": 1,
   "id": "8d35f3e8",
   "metadata": {},
   "outputs": [],
   "source": [
    "if 'google.colab' in str(get_ipython()):\n",
    "    KAGGLE_USER=\"\"\n",
    "    KAGGLE_KEY=\"\"\n",
    "    VIEW=\"default-viewer\"\n",
    "    VERBOSE=\"0\""
   ]
  },
  {
   "cell_type": "code",
   "execution_count": 2,
   "id": "f364894d",
   "metadata": {},
   "outputs": [],
   "source": [
    "if 'google.colab' in str(get_ipython()):\n",
    "    GITHUB_TOKEN = \"\"\n",
    "    !rm -rf anti-money-laundering\n",
    "    #!git clone https://{GITHUB_TOKEN}@github.com/FedericoBruzzone/anti-money-laundering.git\n",
    "    !git clone https://github.com/FedericoBruzzone/anti-money-laundering.git\n",
    "    !mv anti-money-laundering/.* .\n",
    "    !mv anti-money-laundering/* .\n",
    "    !rm -rf ./anti-money-laundering\n",
    "    !pip install -e ."
   ]
  },
  {
   "cell_type": "code",
   "execution_count": 3,
   "id": "42222b2f",
   "metadata": {},
   "outputs": [],
   "source": [
    "if 'google.colab' in str(get_ipython()):\n",
    "    !cp ./.env.example ./.env\n",
    "    with open('.env', 'r') as f:\n",
    "        mod = f.read().splitlines()\n",
    "        mod = mod[2:-2]\n",
    "        mod.append(f'KAGGLE_USER={KAGGLE_USER}')\n",
    "        mod.append(f'KAGGLE_KEY={KAGGLE_KEY}')\n",
    "        mod.append(f'VIEW={VIEW}')\n",
    "        mod.append(f'VERBOSE={VERBOSE}')\n",
    "    with open('.env', 'w') as f:\n",
    "        for i in mod:\n",
    "            f.write(i + '\\n')"
   ]
  },
  {
   "cell_type": "code",
   "execution_count": 4,
   "id": "642e793e",
   "metadata": {},
   "outputs": [
    {
     "name": "stdout",
     "output_type": "stream",
     "text": [
      "Downloading dataset...\n",
      "Done.\n"
     ]
    }
   ],
   "source": [
    "import os\n",
    "from dotenv import load_dotenv\n",
    "load_dotenv()\n",
    "\n",
    "import time\n",
    "import pandas as pd\n",
    "\n",
    "import warnings\n",
    "warnings.filterwarnings(\"ignore\", category=DeprecationWarning)\n",
    "warnings.filterwarnings(\"ignore\", category=UserWarning)\n",
    "warnings.filterwarnings(\"ignore\", category=FutureWarning)\n",
    "\n",
    "from src.utils.kaggle_config            import setup_kaggle\n",
    "from src.utils.kaggle_config            import download_dataset\n",
    "\n",
    "from src.utils.datasets_handler         import (get_train_and_test,\n",
    "                                                get_X_and_Y,\n",
    "                                                print_dataset,\n",
    "                                                label_encoder,\n",
    "                                                split_timestamp)\n",
    "from src.utils.performance_measures     import calculate_performances\n",
    "from src.utils.dataset_sampling_methods import (oversampling,\n",
    "                                                undersampling,\n",
    "                                                bootstrap_sampling)\n",
    "\n",
    "from src.utils.print_utils              import (printLBlue, printGreen)\n",
    "\n",
    "from src.decision_tree.decision_tree    import CustomDecisionTree\n",
    "from src.decision_tree.ID3              import DecisionTreeID3\n",
    "from src.decision_tree.C45              import DecisionTreeC45\n",
    "from src.decision_tree.entropy_type     import EntropyType\n",
    "from src.decision_tree.criterion_type   import CriterionType\n",
    "\n",
    "from IPython.display import Image, display\n",
    "\n",
    "from src.utils.spark_config import get_spark_session\n",
    "from pyspark import TaskContext\n",
    "import pandas as pd\n",
    "\n",
    "VERBOSE = int(os.getenv('VERBOSE'))\n",
    "VIEW = os.getenv('VIEW')\n",
    "\n",
    "setup_kaggle()\n",
    "print(\"Downloading dataset...\") \n",
    "download_dataset(\"iammustafatz/diabetes-prediction-dataset\")\n",
    "download_dataset(\"ealtman2019/ibm-transactions-for-anti-money-laundering-aml\")\n",
    "print(\"Done.\")\n",
    "\n",
    "hi_small_trans = \"HI-Small_Trans.csv\"\n",
    "diabetes = \"diabetes_prediction_dataset.csv\""
   ]
  },
  {
   "cell_type": "code",
   "execution_count": 5,
   "id": "8445ecb9",
   "metadata": {},
   "outputs": [],
   "source": [
    "index_tree = 0\n",
    "\n",
    "def create_trees(partition_elements, verbose=False):\n",
    "    list_series = []\n",
    "    for element in partition_elements:\n",
    "        series_tmp = pd.Series(element.asDict())\n",
    "        list_series.append(series_tmp)\n",
    "\n",
    "    part_df = pd.DataFrame(list_series, columns=COLUMNS_NAME)\n",
    "    X_train, y_train = get_X_and_Y(part_df, verbose=VERBOSE)\n",
    "    X_train, _ = label_encoder(X_train, ['Timestamp', 'Account', 'Account.1', 'Receiving Currency', 'Payment Currency', 'Payment Format'])\n",
    "\n",
    "    if index_tree == 0:\n",
    "        decision_tree: DecisionTreeID3 = DecisionTreeID3(max_depth=8,\n",
    "                                                        num_thresholds_numerical_attr=2,\n",
    "                                                        VERBOSE=False)\n",
    "    elif index_tree == 1:\n",
    "        decision_tree: CustomDecisionTree = CustomDecisionTree(criterion=EntropyType.SHANNON, \n",
    "                                                            type_criterion=CriterionType.BEST, \n",
    "                                                            max_depth=20, \n",
    "                                                            min_samples_split=100,\n",
    "                                                            num_thresholds_numerical_attr=2,\n",
    "                                                            VERBOSE=False)\n",
    "    elif index_tree == 2:\n",
    "        decision_tree: DecisionTreeC45 = DecisionTreeC45(max_depth=4,\n",
    "                                                        min_samples_split=100,\n",
    "                                                        VERBOSE=False)\n",
    "    \n",
    "\n",
    "    decision_tree.fit(X_train, y_train)\n",
    "\n",
    "    if verbose:\n",
    "        ctx = TaskContext()\n",
    "        decision_tree.create_dot_files(filename=\"tree\" + str(ctx.partitionId()),\n",
    "                                       generate_png=True,\n",
    "                                       view=\"default-viewer\")\n",
    "    yield decision_tree\n",
    "\n",
    "def predict_trees(new_line):\n",
    "    def wrap(tree):\n",
    "        prediction = tree.predict(new_line)\n",
    "        return prediction\n",
    "    return wrap\n",
    "\n",
    "def predict_trees_all(X_test):\n",
    "    def wrap(tree):\n",
    "        predictions = tree.predict_test_no_gen(X_test)\n",
    "        return predictions\n",
    "    return wrap"
   ]
  },
  {
   "cell_type": "code",
   "execution_count": 6,
   "id": "b37bd970",
   "metadata": {},
   "outputs": [
    {
     "name": "stderr",
     "output_type": "stream",
     "text": [
      "23/10/01 17:09:23 WARN Utils: Your hostname, federicobruzzone resolves to a loopback address: 127.0.1.1; using 192.168.1.4 instead (on interface wlo1)\n",
      "23/10/01 17:09:23 WARN Utils: Set SPARK_LOCAL_IP if you need to bind to another address\n",
      "Setting default log level to \"WARN\".\n",
      "To adjust logging level use sc.setLogLevel(newLevel). For SparkR, use setLogLevel(newLevel).\n",
      "23/10/01 17:09:23 WARN NativeCodeLoader: Unable to load native-hadoop library for your platform... using builtin-java classes where applicable\n"
     ]
    },
    {
     "name": "stdout",
     "output_type": "stream",
     "text": [
      "len(df_train): 670558\n"
     ]
    }
   ],
   "source": [
    "name = \"AntiMoneyLaundering\"\n",
    "\n",
    "spark = get_spark_session(name, VERBOSE)\n",
    "\n",
    "df_train, df_test = get_train_and_test(hi_small_trans, verbose=VERBOSE)\n",
    "\n",
    "df_train_p = df_train[df_train[\"Is Laundering\"] == 1]\n",
    "df_train_n = df_train[df_train[\"Is Laundering\"] == 0]\n",
    "df_train_n = df_train_n.sample(frac=0.1, random_state=2)\n",
    "df_train = pd.concat([df_train_p, df_train_n])\n",
    "\n",
    "df_train = oversampling(df_train, VERBOSE=False)\n",
    "df_train = bootstrap_sampling(df_train)\n",
    "print(\"len(df_train):\", len(df_train))\n",
    "\n",
    "COLUMNS_NAME: list = df_train.columns.tolist()\n",
    "X_train, y_train = get_X_and_Y(df_train, verbose=VERBOSE)\n",
    "X_test, y_test = get_X_and_Y(df_test, verbose=VERBOSE)\n",
    "\n",
    "# X_train, _ = label_encoder(X_train, ['Timestamp', 'Account', 'Account.1', 'Receiving Currency', 'Payment Currency', 'Payment Format'])\n",
    "X_test, _ = label_encoder(X_test, ['Timestamp', 'Account', 'Account.1', 'Receiving Currency', 'Payment Currency', 'Payment Format'])"
   ]
  },
  {
   "cell_type": "code",
   "execution_count": 7,
   "id": "1c06b43f",
   "metadata": {
    "scrolled": true
   },
   "outputs": [
    {
     "name": "stdout",
     "output_type": "stream",
     "text": [
      "Printing spark dataframe...\n"
     ]
    },
    {
     "name": "stderr",
     "output_type": "stream",
     "text": [
      "[Stage 0:>                                                          (0 + 1) / 1]\r"
     ]
    },
    {
     "name": "stdout",
     "output_type": "stream",
     "text": [
      "+----------------+---------+---------+-------+---------+---------------+------------------+-----------+-----------------+--------------+-------------+\n",
      "|       Timestamp|From Bank|  Account|To Bank|Account.1|Amount Received|Receiving Currency|Amount Paid| Payment Currency|Payment Format|Is Laundering|\n",
      "+----------------+---------+---------+-------+---------+---------------+------------------+-----------+-----------------+--------------+-------------+\n",
      "|2022/09/02 18:03|     3305|800419340|   1362|800419480|         196.87|         US Dollar|     196.87|        US Dollar|        Cheque|            0|\n",
      "|2022/09/02 04:18|   238845|80E265080| 238190|80E992DA0|         602.86|       Swiss Franc|     602.86|      Swiss Franc|   Credit Card|            0|\n",
      "|2022/09/10 09:23|    11107|801B6EE90|  23525|811B0B300|         719.41|              Euro|     719.41|             Euro|   Credit Card|            0|\n",
      "|2022/09/02 10:30|       28|80B7B8090| 131086|80B7B84C0|       32805.32|      Mexican Peso|   32805.32|     Mexican Peso|           ACH|            1|\n",
      "|2022/09/07 04:44|     6276|80DF47A40|   2991|802748380|        3283.36|         US Dollar|    3283.36|        US Dollar|           ACH|            1|\n",
      "|2022/09/08 00:13|   223635|80E02CCA0| 218438|813EF5590|         281.38|         US Dollar|     281.38|        US Dollar|   Credit Card|            0|\n",
      "|2022/09/01 00:16|      222|811B9A7A0|    222|811B9A7A0|         207.04|       Saudi Riyal|     207.04|      Saudi Riyal|  Reinvestment|            0|\n",
      "|2022/09/02 03:41|       70|100428930| 235843|80D6D4030|        2022.62|       Brazil Real|    2022.62|      Brazil Real|          Cash|            1|\n",
      "|2022/09/07 08:03|    48211|811EDA5B0| 148016|811FCA7B0|        42557.5|       Saudi Riyal|    42557.5|      Saudi Riyal|           ACH|            1|\n",
      "|2022/09/02 22:02|    22828|8017F4000|   1665|8017F4140|        2272.29|         US Dollar|    2272.29|        US Dollar|           ACH|            1|\n",
      "|2022/09/01 12:06|       15|80A10CBD0|     15|80A10D150|        1196.34| Australian Dollar|    1196.34|Australian Dollar|           ACH|            1|\n",
      "|2022/09/02 20:08|     6075|805E93390|  16586|806663B20|         933.81|         US Dollar|     933.81|        US Dollar|   Credit Card|            0|\n",
      "|2022/09/05 18:19|    11852|800D2C910| 215803|80B910F50|          73.16|              Euro|      73.16|             Euro|        Cheque|            0|\n",
      "|2022/09/09 19:07|    35100|80D629C90|  29435|80D62A280|          29.34|              Euro|      29.34|             Euro|        Cheque|            0|\n",
      "|2022/09/04 01:30|       12|8001998C0|      1|8001AADD0|     1069842.62|         US Dollar| 1069842.62|        US Dollar|          Cash|            0|\n",
      "|2022/09/07 12:12|   254242|813C59201| 153706|81405C751|      10.957393|           Bitcoin|  10.957393|          Bitcoin|       Bitcoin|            0|\n",
      "|2022/09/07 22:42|    29715|8049312B0|   9587|807E52800|         4137.6|              Yuan|     4137.6|             Yuan|        Cheque|            0|\n",
      "|2022/09/09 17:13|       10|80015D1B0| 213952|80794B6F0|        7763.47|         US Dollar|    7763.47|        US Dollar|           ACH|            1|\n",
      "|2022/09/05 15:22|    19542|810805FE0|  34183|80CEA8100|        1718.42|         US Dollar|    1718.42|        US Dollar|           ACH|            1|\n",
      "|2022/09/09 16:54|    19474|80D36D300|  15747|812676FB0|         318.43|         US Dollar|     318.43|        US Dollar|        Cheque|            0|\n",
      "+----------------+---------+---------+-------+---------+---------------+------------------+-----------+-----------------+--------------+-------------+\n",
      "only showing top 20 rows\n",
      "\n"
     ]
    },
    {
     "name": "stderr",
     "output_type": "stream",
     "text": [
      "                                                                                \r"
     ]
    }
   ],
   "source": [
    "df = spark.createDataFrame(df_train)\n",
    "\n",
    "print(\"Printing spark dataframe...\")\n",
    "df.show()\n",
    "\n",
    "rdd = df.rdd"
   ]
  },
  {
   "cell_type": "code",
   "execution_count": 8,
   "id": "7329d25d",
   "metadata": {},
   "outputs": [],
   "source": [
    "def map_to_column_value_pairs(row):\n",
    "    return [(i, row[i]) for i in range(len(row))]\n",
    "\n",
    "def count_values(a, b):\n",
    "    return a + b"
   ]
  },
  {
   "cell_type": "code",
   "execution_count": 1,
   "id": "4cdec936",
   "metadata": {},
   "outputs": [
    {
     "ename": "NameError",
     "evalue": "name 'time' is not defined",
     "output_type": "error",
     "traceback": [
      "\u001b[0;31m---------------------------------------------------------------------------\u001b[0m",
      "\u001b[0;31mNameError\u001b[0m                                 Traceback (most recent call last)",
      "\u001b[1;32m/home/fcb/Documents/anti-money-laundering/random_forest.ipynb Cell 9\u001b[0m line \u001b[0;36m3\n\u001b[1;32m      <a href='vscode-notebook-cell:/home/fcb/Documents/anti-money-laundering/random_forest.ipynb#X11sZmlsZQ%3D%3D?line=0'>1</a>\u001b[0m \u001b[39m# ID3\u001b[39;00m\n\u001b[1;32m      <a href='vscode-notebook-cell:/home/fcb/Documents/anti-money-laundering/random_forest.ipynb#X11sZmlsZQ%3D%3D?line=1'>2</a>\u001b[0m index_tree \u001b[39m=\u001b[39m \u001b[39m0\u001b[39m\n\u001b[0;32m----> <a href='vscode-notebook-cell:/home/fcb/Documents/anti-money-laundering/random_forest.ipynb#X11sZmlsZQ%3D%3D?line=2'>3</a>\u001b[0m start_time \u001b[39m=\u001b[39m time\u001b[39m.\u001b[39mtime()\n\u001b[1;32m      <a href='vscode-notebook-cell:/home/fcb/Documents/anti-money-laundering/random_forest.ipynb#X11sZmlsZQ%3D%3D?line=3'>4</a>\u001b[0m predictions \u001b[39m=\u001b[39m rdd\u001b[39m.\u001b[39mmapPartitions(create_trees, \u001b[39mFalse\u001b[39;00m) \\\n\u001b[1;32m      <a href='vscode-notebook-cell:/home/fcb/Documents/anti-money-laundering/random_forest.ipynb#X11sZmlsZQ%3D%3D?line=4'>5</a>\u001b[0m                  \u001b[39m.\u001b[39mmap(predict_trees_all(X_test)) \\\n\u001b[1;32m      <a href='vscode-notebook-cell:/home/fcb/Documents/anti-money-laundering/random_forest.ipynb#X11sZmlsZQ%3D%3D?line=5'>6</a>\u001b[0m                  \u001b[39m.\u001b[39mflatMap(map_to_column_value_pairs) \\\n\u001b[0;32m   (...)\u001b[0m\n\u001b[1;32m     <a href='vscode-notebook-cell:/home/fcb/Documents/anti-money-laundering/random_forest.ipynb#X11sZmlsZQ%3D%3D?line=11'>12</a>\u001b[0m                  \u001b[39m.\u001b[39mmap(\u001b[39mlambda\u001b[39;00m x: x[\u001b[39m1\u001b[39m][\u001b[39m0\u001b[39m]) \\\n\u001b[1;32m     <a href='vscode-notebook-cell:/home/fcb/Documents/anti-money-laundering/random_forest.ipynb#X11sZmlsZQ%3D%3D?line=12'>13</a>\u001b[0m                  \u001b[39m.\u001b[39mcollect()\n\u001b[1;32m     <a href='vscode-notebook-cell:/home/fcb/Documents/anti-money-laundering/random_forest.ipynb#X11sZmlsZQ%3D%3D?line=13'>14</a>\u001b[0m end_time \u001b[39m=\u001b[39m time\u001b[39m.\u001b[39mtime()\n",
      "\u001b[0;31mNameError\u001b[0m: name 'time' is not defined"
     ]
    }
   ],
   "source": [
    "# ID3\n",
    "index_tree = 0\n",
    "start_time = time.time()\n",
    "predictions = rdd.mapPartitions(create_trees, False) \\\n",
    "                 .map(predict_trees_all(X_test)) \\\n",
    "                 .flatMap(map_to_column_value_pairs) \\\n",
    "                 .map(lambda x: (x, 1)) \\\n",
    "                 .reduceByKey(count_values) \\\n",
    "                 .map(lambda x: (x[0][0], [(x[0][1], x[1])])) \\\n",
    "                 .reduceByKey(count_values) \\\n",
    "                 .map(lambda x: (x[0], max(x[1], key=lambda item: item[1]))) \\\n",
    "                 .map(lambda x: x[1][0]) \\\n",
    "                 .collect()\n",
    "end_time = time.time()\n",
    "print(\"\\nFit time + Predict Time: %.2f minutes\" % ((end_time - start_time) / 60))\n",
    "calculate_performances(predictions, y_test, verbose=True)"
   ]
  },
  {
   "cell_type": "code",
   "execution_count": 10,
   "id": "e9eca05e",
   "metadata": {},
   "outputs": [
    {
     "name": "stderr",
     "output_type": "stream",
     "text": [
      "ERROR:root:KeyboardInterrupt while sending command.               (0 + 12) / 12]\n",
      "Traceback (most recent call last):\n",
      "  File \"/home/fcb/Documents/anti-money-laundering/venv/lib/python3.10/site-packages/py4j/java_gateway.py\", line 1038, in send_command\n",
      "    response = connection.send_command(command)\n",
      "  File \"/home/fcb/Documents/anti-money-laundering/venv/lib/python3.10/site-packages/py4j/clientserver.py\", line 511, in send_command\n",
      "    answer = smart_decode(self.stream.readline()[:-1])\n",
      "  File \"/usr/lib/python3.10/socket.py\", line 705, in readinto\n",
      "    return self._sock.recv_into(b)\n",
      "KeyboardInterrupt\n"
     ]
    },
    {
     "ename": "KeyboardInterrupt",
     "evalue": "",
     "output_type": "error",
     "traceback": [
      "\u001b[0;31m---------------------------------------------------------------------------\u001b[0m",
      "\u001b[0;31mKeyboardInterrupt\u001b[0m                         Traceback (most recent call last)",
      "\u001b[1;32m/home/fcb/Documents/anti-money-laundering/random_forest.ipynb Cell 10\u001b[0m line \u001b[0;36m1\n\u001b[1;32m      <a href='vscode-notebook-cell:/home/fcb/Documents/anti-money-laundering/random_forest.ipynb#X12sZmlsZQ%3D%3D?line=0'>1</a>\u001b[0m \u001b[39m# Custom\u001b[39;00m\n\u001b[1;32m      <a href='vscode-notebook-cell:/home/fcb/Documents/anti-money-laundering/random_forest.ipynb#X12sZmlsZQ%3D%3D?line=1'>2</a>\u001b[0m index_tree \u001b[39m=\u001b[39m \u001b[39m1\u001b[39m\n\u001b[1;32m      <a href='vscode-notebook-cell:/home/fcb/Documents/anti-money-laundering/random_forest.ipynb#X12sZmlsZQ%3D%3D?line=2'>3</a>\u001b[0m predictions \u001b[39m=\u001b[39m rdd\u001b[39m.\u001b[39;49mmapPartitions(create_trees, \u001b[39mFalse\u001b[39;49;00m) \\\n\u001b[1;32m      <a href='vscode-notebook-cell:/home/fcb/Documents/anti-money-laundering/random_forest.ipynb#X12sZmlsZQ%3D%3D?line=3'>4</a>\u001b[0m                  \u001b[39m.\u001b[39;49mmap(predict_trees_all(X_test)) \\\n\u001b[1;32m      <a href='vscode-notebook-cell:/home/fcb/Documents/anti-money-laundering/random_forest.ipynb#X12sZmlsZQ%3D%3D?line=4'>5</a>\u001b[0m                  \u001b[39m.\u001b[39;49mflatMap(map_to_column_value_pairs) \\\n\u001b[1;32m      <a href='vscode-notebook-cell:/home/fcb/Documents/anti-money-laundering/random_forest.ipynb#X12sZmlsZQ%3D%3D?line=5'>6</a>\u001b[0m                  \u001b[39m.\u001b[39;49mmap(\u001b[39mlambda\u001b[39;49;00m x: (x, \u001b[39m1\u001b[39;49m)) \\\n\u001b[1;32m      <a href='vscode-notebook-cell:/home/fcb/Documents/anti-money-laundering/random_forest.ipynb#X12sZmlsZQ%3D%3D?line=6'>7</a>\u001b[0m                  \u001b[39m.\u001b[39;49mreduceByKey(count_values) \\\n\u001b[1;32m      <a href='vscode-notebook-cell:/home/fcb/Documents/anti-money-laundering/random_forest.ipynb#X12sZmlsZQ%3D%3D?line=7'>8</a>\u001b[0m                  \u001b[39m.\u001b[39;49mmap(\u001b[39mlambda\u001b[39;49;00m x: (x[\u001b[39m0\u001b[39;49m][\u001b[39m0\u001b[39;49m], [(x[\u001b[39m0\u001b[39;49m][\u001b[39m1\u001b[39;49m], x[\u001b[39m1\u001b[39;49m])])) \\\n\u001b[1;32m      <a href='vscode-notebook-cell:/home/fcb/Documents/anti-money-laundering/random_forest.ipynb#X12sZmlsZQ%3D%3D?line=8'>9</a>\u001b[0m                  \u001b[39m.\u001b[39;49mreduceByKey(count_values) \\\n\u001b[1;32m     <a href='vscode-notebook-cell:/home/fcb/Documents/anti-money-laundering/random_forest.ipynb#X12sZmlsZQ%3D%3D?line=9'>10</a>\u001b[0m                  \u001b[39m.\u001b[39;49mmap(\u001b[39mlambda\u001b[39;49;00m x: (x[\u001b[39m0\u001b[39;49m], \u001b[39mmax\u001b[39;49m(x[\u001b[39m1\u001b[39;49m], key\u001b[39m=\u001b[39;49m\u001b[39mlambda\u001b[39;49;00m item: item[\u001b[39m1\u001b[39;49m]))) \\\n\u001b[1;32m     <a href='vscode-notebook-cell:/home/fcb/Documents/anti-money-laundering/random_forest.ipynb#X12sZmlsZQ%3D%3D?line=10'>11</a>\u001b[0m                  \u001b[39m.\u001b[39;49mmap(\u001b[39mlambda\u001b[39;49;00m x: x[\u001b[39m1\u001b[39;49m][\u001b[39m0\u001b[39;49m]) \\\n\u001b[0;32m---> <a href='vscode-notebook-cell:/home/fcb/Documents/anti-money-laundering/random_forest.ipynb#X12sZmlsZQ%3D%3D?line=11'>12</a>\u001b[0m                  \u001b[39m.\u001b[39;49mcollect()\n\u001b[1;32m     <a href='vscode-notebook-cell:/home/fcb/Documents/anti-money-laundering/random_forest.ipynb#X12sZmlsZQ%3D%3D?line=12'>13</a>\u001b[0m calculate_performances(predictions, y_test, verbose\u001b[39m=\u001b[39m\u001b[39mTrue\u001b[39;00m)\n",
      "File \u001b[0;32m~/Documents/anti-money-laundering/venv/lib/python3.10/site-packages/pyspark/rdd.py:1814\u001b[0m, in \u001b[0;36mRDD.collect\u001b[0;34m(self)\u001b[0m\n\u001b[1;32m   1812\u001b[0m \u001b[39mwith\u001b[39;00m SCCallSiteSync(\u001b[39mself\u001b[39m\u001b[39m.\u001b[39mcontext):\n\u001b[1;32m   1813\u001b[0m     \u001b[39massert\u001b[39;00m \u001b[39mself\u001b[39m\u001b[39m.\u001b[39mctx\u001b[39m.\u001b[39m_jvm \u001b[39mis\u001b[39;00m \u001b[39mnot\u001b[39;00m \u001b[39mNone\u001b[39;00m\n\u001b[0;32m-> 1814\u001b[0m     sock_info \u001b[39m=\u001b[39m \u001b[39mself\u001b[39;49m\u001b[39m.\u001b[39;49mctx\u001b[39m.\u001b[39;49m_jvm\u001b[39m.\u001b[39;49mPythonRDD\u001b[39m.\u001b[39;49mcollectAndServe(\u001b[39mself\u001b[39;49m\u001b[39m.\u001b[39;49m_jrdd\u001b[39m.\u001b[39;49mrdd())\n\u001b[1;32m   1815\u001b[0m \u001b[39mreturn\u001b[39;00m \u001b[39mlist\u001b[39m(_load_from_socket(sock_info, \u001b[39mself\u001b[39m\u001b[39m.\u001b[39m_jrdd_deserializer))\n",
      "File \u001b[0;32m~/Documents/anti-money-laundering/venv/lib/python3.10/site-packages/py4j/java_gateway.py:1321\u001b[0m, in \u001b[0;36mJavaMember.__call__\u001b[0;34m(self, *args)\u001b[0m\n\u001b[1;32m   1314\u001b[0m args_command, temp_args \u001b[39m=\u001b[39m \u001b[39mself\u001b[39m\u001b[39m.\u001b[39m_build_args(\u001b[39m*\u001b[39margs)\n\u001b[1;32m   1316\u001b[0m command \u001b[39m=\u001b[39m proto\u001b[39m.\u001b[39mCALL_COMMAND_NAME \u001b[39m+\u001b[39m\\\n\u001b[1;32m   1317\u001b[0m     \u001b[39mself\u001b[39m\u001b[39m.\u001b[39mcommand_header \u001b[39m+\u001b[39m\\\n\u001b[1;32m   1318\u001b[0m     args_command \u001b[39m+\u001b[39m\\\n\u001b[1;32m   1319\u001b[0m     proto\u001b[39m.\u001b[39mEND_COMMAND_PART\n\u001b[0;32m-> 1321\u001b[0m answer \u001b[39m=\u001b[39m \u001b[39mself\u001b[39;49m\u001b[39m.\u001b[39;49mgateway_client\u001b[39m.\u001b[39;49msend_command(command)\n\u001b[1;32m   1322\u001b[0m return_value \u001b[39m=\u001b[39m get_return_value(\n\u001b[1;32m   1323\u001b[0m     answer, \u001b[39mself\u001b[39m\u001b[39m.\u001b[39mgateway_client, \u001b[39mself\u001b[39m\u001b[39m.\u001b[39mtarget_id, \u001b[39mself\u001b[39m\u001b[39m.\u001b[39mname)\n\u001b[1;32m   1325\u001b[0m \u001b[39mfor\u001b[39;00m temp_arg \u001b[39min\u001b[39;00m temp_args:\n",
      "File \u001b[0;32m~/Documents/anti-money-laundering/venv/lib/python3.10/site-packages/py4j/java_gateway.py:1038\u001b[0m, in \u001b[0;36mGatewayClient.send_command\u001b[0;34m(self, command, retry, binary)\u001b[0m\n\u001b[1;32m   1036\u001b[0m connection \u001b[39m=\u001b[39m \u001b[39mself\u001b[39m\u001b[39m.\u001b[39m_get_connection()\n\u001b[1;32m   1037\u001b[0m \u001b[39mtry\u001b[39;00m:\n\u001b[0;32m-> 1038\u001b[0m     response \u001b[39m=\u001b[39m connection\u001b[39m.\u001b[39;49msend_command(command)\n\u001b[1;32m   1039\u001b[0m     \u001b[39mif\u001b[39;00m binary:\n\u001b[1;32m   1040\u001b[0m         \u001b[39mreturn\u001b[39;00m response, \u001b[39mself\u001b[39m\u001b[39m.\u001b[39m_create_connection_guard(connection)\n",
      "File \u001b[0;32m~/Documents/anti-money-laundering/venv/lib/python3.10/site-packages/py4j/clientserver.py:511\u001b[0m, in \u001b[0;36mClientServerConnection.send_command\u001b[0;34m(self, command)\u001b[0m\n\u001b[1;32m    509\u001b[0m \u001b[39mtry\u001b[39;00m:\n\u001b[1;32m    510\u001b[0m     \u001b[39mwhile\u001b[39;00m \u001b[39mTrue\u001b[39;00m:\n\u001b[0;32m--> 511\u001b[0m         answer \u001b[39m=\u001b[39m smart_decode(\u001b[39mself\u001b[39;49m\u001b[39m.\u001b[39;49mstream\u001b[39m.\u001b[39;49mreadline()[:\u001b[39m-\u001b[39m\u001b[39m1\u001b[39m])\n\u001b[1;32m    512\u001b[0m         logger\u001b[39m.\u001b[39mdebug(\u001b[39m\"\u001b[39m\u001b[39mAnswer received: \u001b[39m\u001b[39m{0}\u001b[39;00m\u001b[39m\"\u001b[39m\u001b[39m.\u001b[39mformat(answer))\n\u001b[1;32m    513\u001b[0m         \u001b[39m# Happens when a the other end is dead. There might be an empty\u001b[39;00m\n\u001b[1;32m    514\u001b[0m         \u001b[39m# answer before the socket raises an error.\u001b[39;00m\n",
      "File \u001b[0;32m/usr/lib/python3.10/socket.py:705\u001b[0m, in \u001b[0;36mSocketIO.readinto\u001b[0;34m(self, b)\u001b[0m\n\u001b[1;32m    703\u001b[0m \u001b[39mwhile\u001b[39;00m \u001b[39mTrue\u001b[39;00m:\n\u001b[1;32m    704\u001b[0m     \u001b[39mtry\u001b[39;00m:\n\u001b[0;32m--> 705\u001b[0m         \u001b[39mreturn\u001b[39;00m \u001b[39mself\u001b[39;49m\u001b[39m.\u001b[39;49m_sock\u001b[39m.\u001b[39;49mrecv_into(b)\n\u001b[1;32m    706\u001b[0m     \u001b[39mexcept\u001b[39;00m timeout:\n\u001b[1;32m    707\u001b[0m         \u001b[39mself\u001b[39m\u001b[39m.\u001b[39m_timeout_occurred \u001b[39m=\u001b[39m \u001b[39mTrue\u001b[39;00m\n",
      "\u001b[0;31mKeyboardInterrupt\u001b[0m: "
     ]
    },
    {
     "name": "stderr",
     "output_type": "stream",
     "text": [
      "[Stage 4:>                                                        (0 + 12) / 12]\r"
     ]
    }
   ],
   "source": [
    "# Custom\n",
    "index_tree = 1\n",
    "start_time = time.time()\n",
    "predictions = rdd.mapPartitions(create_trees, False) \\\n",
    "                 .map(predict_trees_all(X_test)) \\\n",
    "                 .flatMap(map_to_column_value_pairs) \\\n",
    "                 .map(lambda x: (x, 1)) \\\n",
    "                 .reduceByKey(count_values) \\\n",
    "                 .map(lambda x: (x[0][0], [(x[0][1], x[1])])) \\\n",
    "                 .reduceByKey(count_values) \\\n",
    "                 .map(lambda x: (x[0], max(x[1], key=lambda item: item[1]))) \\\n",
    "                 .map(lambda x: x[1][0]) \\\n",
    "                 .collect()\n",
    "end_time = time.time()\n",
    "print(\"\\nFit time + Predict Time: %.2f minutes\" % ((end_time - start_time) / 60))\n",
    "calculate_performances(predictions, y_test, verbose=True)"
   ]
  },
  {
   "cell_type": "code",
   "execution_count": null,
   "id": "64b493ec",
   "metadata": {},
   "outputs": [],
   "source": [
    "# C4.5\n",
    "index_tree = 2\n",
    "start_time = time.time()\n",
    "predictions = rdd.mapPartitions(create_trees, False) \\\n",
    "                 .map(predict_trees_all(X_test)) \\\n",
    "                 .flatMap(map_to_column_value_pairs) \\\n",
    "                 .map(lambda x: (x, 1)) \\\n",
    "                 .reduceByKey(count_values) \\\n",
    "                 .map(lambda x: (x[0][0], [(x[0][1], x[1])])) \\\n",
    "                 .reduceByKey(count_values) \\\n",
    "                 .map(lambda x: (x[0], max(x[1], key=lambda item: item[1]))) \\\n",
    "                 .map(lambda x: x[1][0]) \\\n",
    "                 .collect()\n",
    "end_time = time.time()\n",
    "print(\"\\nFit time + Predict Time: %.2f minutes\" % ((end_time - start_time) / 60))\n",
    "calculate_performances(predictions, y_test, verbose=True)"
   ]
  },
  {
   "cell_type": "code",
   "execution_count": null,
   "id": "f38a9c3c",
   "metadata": {},
   "outputs": [],
   "source": [
    "spark.stop()"
   ]
  }
 ],
 "metadata": {
  "kernelspec": {
   "display_name": "venv",
   "language": "python",
   "name": "python3"
  },
  "language_info": {
   "codemirror_mode": {
    "name": "ipython",
    "version": 3
   },
   "file_extension": ".py",
   "mimetype": "text/x-python",
   "name": "python",
   "nbconvert_exporter": "python",
   "pygments_lexer": "ipython3",
   "version": "3.10.12"
  },
  "varInspector": {
   "cols": {
    "lenName": 16,
    "lenType": 16,
    "lenVar": 40
   },
   "kernels_config": {
    "python": {
     "delete_cmd_postfix": "",
     "delete_cmd_prefix": "del ",
     "library": "var_list.py",
     "varRefreshCmd": "print(var_dic_list())"
    },
    "r": {
     "delete_cmd_postfix": ") ",
     "delete_cmd_prefix": "rm(",
     "library": "var_list.r",
     "varRefreshCmd": "cat(var_dic_list()) "
    }
   },
   "types_to_exclude": [
    "module",
    "function",
    "builtin_function_or_method",
    "instance",
    "_Feature"
   ],
   "window_display": false
  }
 },
 "nbformat": 4,
 "nbformat_minor": 5
}
