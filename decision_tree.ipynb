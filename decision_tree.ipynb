{
 "cells": [
  {
   "cell_type": "code",
   "execution_count": 1,
   "metadata": {},
   "outputs": [],
   "source": [
    "if 'google.colab' in str(get_ipython()):\n",
    "    GITHUB_TOKEN = \"\"\n",
    "    !rm -rf anti_money_laundering\n",
    "    !git clone https://{GITHUB_TOKEN}@github.com/FedericoBruzzone/anti_money_laundering.git\n",
    "    !mv anti_money_laundering/* \n",
    "    !rm -rf anti_money_laundering"
   ]
  },
  {
   "cell_type": "code",
   "execution_count": 1,
   "metadata": {},
   "outputs": [
    {
     "name": "stdout",
     "output_type": "stream",
     "text": [
      "Downloading dataset...\n",
      "Done.\n"
     ]
    }
   ],
   "source": [
    "import os\n",
    "from dotenv import load_dotenv\n",
    "load_dotenv()\n",
    "\n",
    "import time\n",
    "import pandas as pd\n",
    "\n",
    "import warnings\n",
    "warnings.filterwarnings(\"ignore\", category=DeprecationWarning)\n",
    "warnings.filterwarnings(\"ignore\", category=UserWarning)\n",
    "warnings.filterwarnings(\"ignore\", category=FutureWarning)\n",
    "\n",
    "from src.utils.kaggle_config            import setup_kaggle\n",
    "from src.utils.kaggle_config            import download_dataset\n",
    "\n",
    "from src.utils.datasets_handler         import (get_train_and_test,\n",
    "                                                get_X_and_Y,\n",
    "                                                print_dataset,\n",
    "                                                label_encoder,\n",
    "                                                split_timestamp)\n",
    "from src.utils.performance_measures     import calculate_performances\n",
    "from src.utils.dataset_sampling_methods import (oversampling,\n",
    "                                                undersampling,\n",
    "                                                bootstrap_sampling)\n",
    "\n",
    "from src.utils.print_utils              import (printLBlue, printGreen)\n",
    "\n",
    "from src.decision_tree.decision_tree    import CustomDecisionTree\n",
    "from src.decision_tree.ID3              import DecisionTreeID3\n",
    "from src.decision_tree.C45              import DecisionTreeC45\n",
    "from src.decision_tree.entropy_type     import EntropyType\n",
    "from src.decision_tree.criterion_type   import CriterionType\n",
    "\n",
    "from IPython.display import Image, display\n",
    "\n",
    "VERBOSE = int(os.getenv('VERBOSE'))\n",
    "VIEW = os.getenv('VIEW')\n",
    "\n",
    "setup_kaggle()\n",
    "print(\"Downloading dataset...\") \n",
    "download_dataset(\"iammustafatz/diabetes-prediction-dataset\")\n",
    "download_dataset(\"ealtman2019/ibm-transactions-for-anti-money-laundering-aml\")\n",
    "print(\"Done.\")\n",
    "\n",
    "hi_small_trans = \"HI-Small_Trans.csv\"\n",
    "diabetes = \"diabetes_prediction_dataset.csv\""
   ]
  },
  {
   "cell_type": "markdown",
   "metadata": {},
   "source": [
    "## Preliminary test: Diabetes Dataset"
   ]
  },
  {
   "cell_type": "code",
   "execution_count": 3,
   "metadata": {},
   "outputs": [],
   "source": [
    "df_train, df_test = get_train_and_test(diabetes, verbose=VERBOSE)\n",
    "X_train, y_train = get_X_and_Y(df_train, verbose=VERBOSE)\n",
    "X_test, y_test = get_X_and_Y(df_test, verbose=VERBOSE)\n",
    "X_train, _ = label_encoder(X_train, ['gender', 'smoking_history'])\n",
    "X_test,  _ = label_encoder(X_test, ['gender', 'smoking_history'])"
   ]
  },
  {
   "cell_type": "markdown",
   "metadata": {},
   "source": [
    "### ID3"
   ]
  },
  {
   "cell_type": "code",
   "execution_count": null,
   "metadata": {},
   "outputs": [],
   "source": [
    "print(\"---------------------- ID3 --------------------------\")    \n",
    "start_time = time.time()\n",
    "decision_tree: DecisionTreeID3 = DecisionTreeID3(max_depth=10, \n",
    "                                                 num_thresholds_numerical_attr=6)\n",
    "decision_tree.fit(X_train, y_train)\n",
    "end_time = time.time()\n",
    "decision_tree.create_dot_files(filename=\"tree-id3-diabetes\", generate_png=True, view=\"\")\n",
    "print()\n",
    "print(\"Performances: \")\n",
    "predictions = list(decision_tree.predict_test(X_test))\n",
    "print(f\"Fit time: {end_time - start_time} seconds\") \n",
    "calculate_performances(predictions, y_test, \"id3\", verbose=True)\n",
    "print(\"-------------------------- END ID3 --------------------------\")"
   ]
  },
  {
   "cell_type": "code",
   "execution_count": null,
   "metadata": {},
   "outputs": [],
   "source": [
    "display(Image(filename='./dot_figs/tree-id3-diabetes.png'))"
   ]
  },
  {
   "cell_type": "markdown",
   "metadata": {},
   "source": [
    "### Custom"
   ]
  },
  {
   "cell_type": "code",
   "execution_count": null,
   "metadata": {},
   "outputs": [],
   "source": [
    "print(\"-------------------------- CUSTOM --------------------------\")\n",
    "start_time = time.time()\n",
    "decision_tree = CustomDecisionTree(criterion=EntropyType.SHANNON, \n",
    "                                    type_criterion=CriterionType.BEST, \n",
    "                                    max_depth=10, \n",
    "                                    min_samples_split=20,\n",
    "                                    num_thresholds_numerical_attr=6)\n",
    "decision_tree.fit(X_train, y_train)\n",
    "end_time = time.time()\n",
    "decision_tree.create_dot_files(filename=\"tree-custom-diabetes\", generate_png=True, view=\"\")\n",
    "print()\n",
    "print(\"Performances: \") \n",
    "predictions = list(decision_tree.predict_test(X_test))\n",
    "print(f\"Fit time: {end_time - start_time} seconds\")\n",
    "calculate_performances(predictions, y_test, \"custom\", verbose=True)\n",
    "print(\"-------------------------- END CUSTOM --------------------------\")"
   ]
  },
  {
   "cell_type": "code",
   "execution_count": null,
   "metadata": {},
   "outputs": [],
   "source": [
    "display(Image(filename='./dot_figs/tree-custom-diabetes.png'))"
   ]
  },
  {
   "cell_type": "markdown",
   "metadata": {},
   "source": [
    "## IBM Money Laundering Dataset"
   ]
  },
  {
   "cell_type": "code",
   "execution_count": 7,
   "metadata": {},
   "outputs": [
    {
     "name": "stdout",
     "output_type": "stream",
     "text": [
      "Is Laundering\n",
      "0    4058540\n",
      "1       4136\n",
      "Name: count, dtype: int64\n",
      "Is Laundering\n",
      "0    1014628\n",
      "1       1041\n",
      "Name: count, dtype: int64\n",
      "Length of training set: 4062676     Length of test set: 1015669\n"
     ]
    },
    {
     "data": {
      "text/html": [
       "<div>\n",
       "<style scoped>\n",
       "    .dataframe tbody tr th:only-of-type {\n",
       "        vertical-align: middle;\n",
       "    }\n",
       "\n",
       "    .dataframe tbody tr th {\n",
       "        vertical-align: top;\n",
       "    }\n",
       "\n",
       "    .dataframe thead th {\n",
       "        text-align: right;\n",
       "    }\n",
       "</style>\n",
       "<table border=\"1\" class=\"dataframe\">\n",
       "  <thead>\n",
       "    <tr style=\"text-align: right;\">\n",
       "      <th></th>\n",
       "      <th>Timestamp</th>\n",
       "      <th>From Bank</th>\n",
       "      <th>Account</th>\n",
       "      <th>To Bank</th>\n",
       "      <th>Account.1</th>\n",
       "      <th>Amount Received</th>\n",
       "      <th>Receiving Currency</th>\n",
       "      <th>Amount Paid</th>\n",
       "      <th>Payment Currency</th>\n",
       "      <th>Payment Format</th>\n",
       "      <th>Is Laundering</th>\n",
       "    </tr>\n",
       "  </thead>\n",
       "  <tbody>\n",
       "    <tr>\n",
       "      <th>1068097</th>\n",
       "      <td>2022/09/01 22:48</td>\n",
       "      <td>318886</td>\n",
       "      <td>80B3EA590</td>\n",
       "      <td>24161</td>\n",
       "      <td>80B3EA770</td>\n",
       "      <td>3582.88</td>\n",
       "      <td>US Dollar</td>\n",
       "      <td>3582.88</td>\n",
       "      <td>US Dollar</td>\n",
       "      <td>Cheque</td>\n",
       "      <td>0</td>\n",
       "    </tr>\n",
       "    <tr>\n",
       "      <th>3824191</th>\n",
       "      <td>2022/09/08 03:57</td>\n",
       "      <td>14</td>\n",
       "      <td>80FD57700</td>\n",
       "      <td>43049</td>\n",
       "      <td>80FD69960</td>\n",
       "      <td>175991.60</td>\n",
       "      <td>Shekel</td>\n",
       "      <td>175991.60</td>\n",
       "      <td>Shekel</td>\n",
       "      <td>Wire</td>\n",
       "      <td>0</td>\n",
       "    </tr>\n",
       "    <tr>\n",
       "      <th>2416035</th>\n",
       "      <td>2022/09/05 05:31</td>\n",
       "      <td>235509</td>\n",
       "      <td>80CE5C840</td>\n",
       "      <td>235843</td>\n",
       "      <td>80D5A5E70</td>\n",
       "      <td>15451.15</td>\n",
       "      <td>Brazil Real</td>\n",
       "      <td>15451.15</td>\n",
       "      <td>Brazil Real</td>\n",
       "      <td>Cheque</td>\n",
       "      <td>0</td>\n",
       "    </tr>\n",
       "    <tr>\n",
       "      <th>126628</th>\n",
       "      <td>2022/09/01 00:04</td>\n",
       "      <td>2591</td>\n",
       "      <td>800602EA0</td>\n",
       "      <td>1299</td>\n",
       "      <td>800CBA7A0</td>\n",
       "      <td>3009.82</td>\n",
       "      <td>Euro</td>\n",
       "      <td>3009.82</td>\n",
       "      <td>Euro</td>\n",
       "      <td>Cheque</td>\n",
       "      <td>0</td>\n",
       "    </tr>\n",
       "    <tr>\n",
       "      <th>3797765</th>\n",
       "      <td>2022/09/08 02:36</td>\n",
       "      <td>2947</td>\n",
       "      <td>8044D4D50</td>\n",
       "      <td>2627</td>\n",
       "      <td>80B8F74D0</td>\n",
       "      <td>5236.26</td>\n",
       "      <td>US Dollar</td>\n",
       "      <td>5236.26</td>\n",
       "      <td>US Dollar</td>\n",
       "      <td>Credit Card</td>\n",
       "      <td>0</td>\n",
       "    </tr>\n",
       "  </tbody>\n",
       "</table>\n",
       "</div>"
      ],
      "text/plain": [
       "                Timestamp  From Bank    Account  To Bank  Account.1  \\\n",
       "1068097  2022/09/01 22:48     318886  80B3EA590    24161  80B3EA770   \n",
       "3824191  2022/09/08 03:57         14  80FD57700    43049  80FD69960   \n",
       "2416035  2022/09/05 05:31     235509  80CE5C840   235843  80D5A5E70   \n",
       "126628   2022/09/01 00:04       2591  800602EA0     1299  800CBA7A0   \n",
       "3797765  2022/09/08 02:36       2947  8044D4D50     2627  80B8F74D0   \n",
       "\n",
       "         Amount Received Receiving Currency  Amount Paid Payment Currency  \\\n",
       "1068097          3582.88          US Dollar      3582.88        US Dollar   \n",
       "3824191        175991.60             Shekel    175991.60           Shekel   \n",
       "2416035         15451.15        Brazil Real     15451.15      Brazil Real   \n",
       "126628           3009.82               Euro      3009.82             Euro   \n",
       "3797765          5236.26          US Dollar      5236.26        US Dollar   \n",
       "\n",
       "        Payment Format  Is Laundering  \n",
       "1068097         Cheque              0  \n",
       "3824191           Wire              0  \n",
       "2416035         Cheque              0  \n",
       "126628          Cheque              0  \n",
       "3797765    Credit Card              0  "
      ]
     },
     "execution_count": 5,
     "metadata": {},
     "output_type": "execute_result"
    }
   ],
   "source": [
    "original_df_train, original_df_test = get_train_and_test(hi_small_trans, verbose=VERBOSE)\n",
    "\n",
    "print(original_df_train[\"Is Laundering\"].value_counts())\n",
    "print(original_df_test[\"Is Laundering\"].value_counts())\n",
    "\n",
    "print(\"Length of training set:\", len(original_df_train), \"    Length of test set:\", len(original_df_test))\n",
    "\n",
    "original_df_train.head()"
   ]
  },
  {
   "cell_type": "code",
   "execution_count": 7,
   "metadata": {},
   "outputs": [
    {
     "data": {
      "text/html": [
       "<div>\n",
       "<style scoped>\n",
       "    .dataframe tbody tr th:only-of-type {\n",
       "        vertical-align: middle;\n",
       "    }\n",
       "\n",
       "    .dataframe tbody tr th {\n",
       "        vertical-align: top;\n",
       "    }\n",
       "\n",
       "    .dataframe thead th {\n",
       "        text-align: right;\n",
       "    }\n",
       "</style>\n",
       "<table border=\"1\" class=\"dataframe\">\n",
       "  <thead>\n",
       "    <tr style=\"text-align: right;\">\n",
       "      <th></th>\n",
       "      <th>From Bank</th>\n",
       "      <th>Account</th>\n",
       "      <th>To Bank</th>\n",
       "      <th>Account.1</th>\n",
       "      <th>Amount Received</th>\n",
       "      <th>Receiving Currency</th>\n",
       "      <th>Amount Paid</th>\n",
       "      <th>Payment Currency</th>\n",
       "      <th>Payment Format</th>\n",
       "      <th>Date</th>\n",
       "      <th>Hour</th>\n",
       "      <th>Minute</th>\n",
       "      <th>Is Laundering</th>\n",
       "    </tr>\n",
       "  </thead>\n",
       "  <tbody>\n",
       "    <tr>\n",
       "      <th>1068097</th>\n",
       "      <td>318886</td>\n",
       "      <td>80B3EA590</td>\n",
       "      <td>24161</td>\n",
       "      <td>80B3EA770</td>\n",
       "      <td>3582.88</td>\n",
       "      <td>US Dollar</td>\n",
       "      <td>3582.88</td>\n",
       "      <td>US Dollar</td>\n",
       "      <td>Cheque</td>\n",
       "      <td>2022/09/01</td>\n",
       "      <td>22</td>\n",
       "      <td>48</td>\n",
       "      <td>0</td>\n",
       "    </tr>\n",
       "    <tr>\n",
       "      <th>3824191</th>\n",
       "      <td>14</td>\n",
       "      <td>80FD57700</td>\n",
       "      <td>43049</td>\n",
       "      <td>80FD69960</td>\n",
       "      <td>175991.60</td>\n",
       "      <td>Shekel</td>\n",
       "      <td>175991.60</td>\n",
       "      <td>Shekel</td>\n",
       "      <td>Wire</td>\n",
       "      <td>2022/09/08</td>\n",
       "      <td>3</td>\n",
       "      <td>57</td>\n",
       "      <td>0</td>\n",
       "    </tr>\n",
       "    <tr>\n",
       "      <th>2416035</th>\n",
       "      <td>235509</td>\n",
       "      <td>80CE5C840</td>\n",
       "      <td>235843</td>\n",
       "      <td>80D5A5E70</td>\n",
       "      <td>15451.15</td>\n",
       "      <td>Brazil Real</td>\n",
       "      <td>15451.15</td>\n",
       "      <td>Brazil Real</td>\n",
       "      <td>Cheque</td>\n",
       "      <td>2022/09/05</td>\n",
       "      <td>5</td>\n",
       "      <td>31</td>\n",
       "      <td>0</td>\n",
       "    </tr>\n",
       "    <tr>\n",
       "      <th>126628</th>\n",
       "      <td>2591</td>\n",
       "      <td>800602EA0</td>\n",
       "      <td>1299</td>\n",
       "      <td>800CBA7A0</td>\n",
       "      <td>3009.82</td>\n",
       "      <td>Euro</td>\n",
       "      <td>3009.82</td>\n",
       "      <td>Euro</td>\n",
       "      <td>Cheque</td>\n",
       "      <td>2022/09/01</td>\n",
       "      <td>0</td>\n",
       "      <td>4</td>\n",
       "      <td>0</td>\n",
       "    </tr>\n",
       "    <tr>\n",
       "      <th>3797765</th>\n",
       "      <td>2947</td>\n",
       "      <td>8044D4D50</td>\n",
       "      <td>2627</td>\n",
       "      <td>80B8F74D0</td>\n",
       "      <td>5236.26</td>\n",
       "      <td>US Dollar</td>\n",
       "      <td>5236.26</td>\n",
       "      <td>US Dollar</td>\n",
       "      <td>Credit Card</td>\n",
       "      <td>2022/09/08</td>\n",
       "      <td>2</td>\n",
       "      <td>36</td>\n",
       "      <td>0</td>\n",
       "    </tr>\n",
       "  </tbody>\n",
       "</table>\n",
       "</div>"
      ],
      "text/plain": [
       "         From Bank    Account  To Bank  Account.1  Amount Received  \\\n",
       "1068097     318886  80B3EA590    24161  80B3EA770          3582.88   \n",
       "3824191         14  80FD57700    43049  80FD69960        175991.60   \n",
       "2416035     235509  80CE5C840   235843  80D5A5E70         15451.15   \n",
       "126628        2591  800602EA0     1299  800CBA7A0          3009.82   \n",
       "3797765       2947  8044D4D50     2627  80B8F74D0          5236.26   \n",
       "\n",
       "        Receiving Currency  Amount Paid Payment Currency Payment Format  \\\n",
       "1068097          US Dollar      3582.88        US Dollar         Cheque   \n",
       "3824191             Shekel    175991.60           Shekel           Wire   \n",
       "2416035        Brazil Real     15451.15      Brazil Real         Cheque   \n",
       "126628                Euro      3009.82             Euro         Cheque   \n",
       "3797765          US Dollar      5236.26        US Dollar    Credit Card   \n",
       "\n",
       "               Date  Hour  Minute  Is Laundering  \n",
       "1068097  2022/09/01    22      48              0  \n",
       "3824191  2022/09/08     3      57              0  \n",
       "2416035  2022/09/05     5      31              0  \n",
       "126628   2022/09/01     0       4              0  \n",
       "3797765  2022/09/08     2      36              0  "
      ]
     },
     "execution_count": 7,
     "metadata": {},
     "output_type": "execute_result"
    }
   ],
   "source": [
    "split_timestamp(original_df_train)\n",
    "split_timestamp(original_df_test)\n",
    "\n",
    "original_df_train.head()"
   ]
  },
  {
   "cell_type": "code",
   "execution_count": 4,
   "metadata": {},
   "outputs": [],
   "source": [
    "original_df_train, _ = label_encoder(original_df_train, ['Date', 'Account', 'Account.1', 'Receiving Currency', 'Payment Currency', 'Payment Format'])\n",
    "original_df_test, _ = label_encoder(original_df_test, ['Date', 'Account', 'Account.1', 'Receiving Currency', 'Payment Currency', 'Payment Format'])"
   ]
  },
  {
   "cell_type": "markdown",
   "metadata": {},
   "source": [
    "### ID3"
   ]
  },
  {
   "cell_type": "code",
   "execution_count": 5,
   "metadata": {},
   "outputs": [],
   "source": [
    "hp_n_thresholds_values = [2, 4, 6]\n",
    "hp_max_depth_values = [4, 8, 12]\n",
    "\n",
    "def id3_experiment(df_train, df_test, type):\n",
    "    X_train, y_train = get_X_and_Y(df_train, verbose=VERBOSE)\n",
    "    X_test, y_test = get_X_and_Y(df_test, verbose=VERBOSE)\n",
    "    \n",
    "    for hp_n_thresholds in hp_n_thresholds_values:\n",
    "        printGreen(f\"Number of thresholds for num attr: {hp_n_thresholds}\")\n",
    "\n",
    "        for hp_max_depth in hp_max_depth_values:\n",
    "            printGreen(f\"   Max depth: {hp_max_depth}\")\n",
    "            start_time = time.time()\n",
    "            decision_tree: DecisionTreeID3 = DecisionTreeID3(max_depth=hp_max_depth, num_thresholds_numerical_attr=hp_n_thresholds)\n",
    "            decision_tree.fit(X_train, y_train)\n",
    "            end_time = time.time()\n",
    "            decision_tree.create_dot_files(filename=f\"tree-id3-{type}-{hp_n_thresholds}\", generate_png=True, view=VIEW)\n",
    "            print(\"PERFORMANCES:\")\n",
    "            predictions = list(decision_tree.predict_test(X_test))\n",
    "        \n",
    "            calculate_performances(predictions, y_test, \"id3\", verbose=True)\n",
    "\n",
    "            print(\"\\nFit time: %.2f minutes\" % ((end_time - start_time) / 60))\n",
    "            print(\"Predict time: %.2f minutes\" % ((time.time() - end_time) / 60))\n"
   ]
  },
  {
   "cell_type": "code",
   "execution_count": 6,
   "metadata": {},
   "outputs": [],
   "source": [
    "printLBlue(\"Preprocessing: Undersampling\")\n",
    "df_train, df_test = original_df_train, original_df_test\n",
    "df_train = undersampling(df_train, VERBOSE=False)\n",
    "id3_experiment(df_train, df_test, \"undersampling\")"
   ]
  },
  {
   "cell_type": "code",
   "execution_count": 8,
   "metadata": {},
   "outputs": [],
   "source": [
    "printLBlue(\"Preprocessing: Oversampling\")\n",
    "df_train, df_test = original_df_train, original_df_test\n",
    "df_train = oversampling(df_train, VERBOSE=False)\n",
    "id3_experiment(df_train, df_test, \"oversampling\")"
   ]
  },
  {
   "cell_type": "code",
   "execution_count": 7,
   "metadata": {},
   "outputs": [],
   "source": [
    "printLBlue(\"Without preprocessing\")\n",
    "df_train, df_test = original_df_train, original_df_test\n",
    "id3_experiment(df_train, df_test, \"wo_preprocessing\")"
   ]
  },
  {
   "cell_type": "markdown",
   "metadata": {},
   "source": [
    "### Custom Algorithm"
   ]
  },
  {
   "cell_type": "code",
   "execution_count": 9,
   "metadata": {},
   "outputs": [],
   "source": [
    "hp_max_depth_values = [4, 7, 10, 20]\n",
    "hp_n_thresholds_values = [2, 4, 6]\n",
    "hp_min_samples_split_values = [2, 100]\n",
    "\n",
    "\n",
    "def custom_alg_experiment(df_train, df_test, type, start_index=0, end_index=24): \n",
    "    X_train, y_train = get_X_and_Y(df_train, verbose=VERBOSE)\n",
    "    X_test, y_test = get_X_and_Y(df_test, verbose=VERBOSE)\n",
    "\n",
    "    k = 0\n",
    "\n",
    "    for hp_max_depth in hp_max_depth_values:\n",
    "        for hp_n_thresholds in hp_n_thresholds_values:\n",
    "            for hp_min_samples_split in hp_min_samples_split_values:\n",
    "\n",
    "                if k < start_index or k > end_index:\n",
    "                    k += 1\n",
    "                    continue\n",
    "\n",
    "                k += 1\n",
    "\n",
    "                printGreen(f\"Max depth: {hp_max_depth}\")\n",
    "                printGreen(f\"Number of thresholds for num attr: {hp_n_thresholds}\")\n",
    "                printGreen(f\"Min samples split: {hp_min_samples_split}\")\n",
    "\n",
    "                start_time = time.time()\n",
    "                decision_tree = CustomDecisionTree(max_depth=hp_max_depth, \n",
    "                                                    min_samples_split=hp_min_samples_split,\n",
    "                                                    num_thresholds_numerical_attr=hp_n_thresholds)\n",
    "                decision_tree.fit(X_train, y_train)\n",
    "                end_time = time.time()\n",
    "                decision_tree.create_dot_files(filename=f\"tree-custom-{type}-{hp_n_thresholds}-{hp_min_samples_split}\", generate_png=True, view=VIEW)\n",
    "                print(\"PERFORMANCES:\")\n",
    "                predictions = list(decision_tree.predict_test(X_test))\n",
    "            \n",
    "                calculate_performances(predictions, y_test, \"custom\", verbose=True)\n",
    "\n",
    "                print(\"\\nFit time: %.2f minutes\" % ((end_time - start_time) / 60))\n",
    "                print(\"Predict time: %.2f minutes\" % ((time.time() - end_time) / 60))\n"
   ]
  },
  {
   "cell_type": "code",
   "execution_count": 10,
   "metadata": {},
   "outputs": [],
   "source": [
    "print(\"\\nPreprocessing: Undersampling\")\n",
    "df_train, df_test = original_df_train, original_df_test\n",
    "df_train = undersampling(df_train, VERBOSE=False)\n",
    "custom_alg_experiment(df_train, df_test, \"undersampling\")"
   ]
  },
  {
   "cell_type": "code",
   "execution_count": null,
   "metadata": {},
   "outputs": [],
   "source": [
    "print(\"\\nPreprocessing: Oversampling\")\n",
    "df_train, df_test = original_df_train, original_df_test\n",
    "df_train = oversampling(df_train, VERBOSE=False)\n",
    "custom_alg_experiment(df_train, df_test, \"oversampling\", start_index=0, end_index=11)"
   ]
  },
  {
   "cell_type": "code",
   "execution_count": null,
   "metadata": {},
   "outputs": [],
   "source": [
    "df_train, df_test = original_df_train, original_df_test\n",
    "df_train = oversampling(df_train, VERBOSE=False)\n",
    "custom_alg_experiment(df_train, df_test, \"oversampling\", start_index=12, end_index=18)"
   ]
  },
  {
   "cell_type": "code",
   "execution_count": 11,
   "metadata": {},
   "outputs": [
    {
     "name": "stdout",
     "output_type": "stream",
     "text": [
      "\u001b[32mMax depth: 20\u001b[0m\n",
      "\u001b[32mNumber of thresholds for num attr: 2\u001b[0m\n",
      "\u001b[32mMin samples split: 2\u001b[0m\n",
      "PARAMETERS:\n",
      "\tCRITERION: Entropy\n",
      "\tTYPE CRITERION: Best\n",
      "\tMAX DEPTH: 20\n",
      "\tMIN SAMPLES SPLIT: 2\n",
      "\tNUM THRESHOLDS NUMERICAL ATTR: 2\n",
      "\n"
     ]
    },
    {
     "name": "stderr",
     "output_type": "stream",
     "text": [
      "dot: graph is too large for cairo-renderer bitmaps. Scaling by 0.119816 to fit\n"
     ]
    },
    {
     "name": "stdout",
     "output_type": "stream",
     "text": [
      "PERFORMANCES:\n",
      "    F1 score: 0.026557     Accuracy: 0.965787\n",
      "   Precision: 0.013677       Recall: 0.455331\n",
      "          TP:      474           TN:   980446\n",
      "          FP:    34182           FN:      567\n",
      "         TPR: 0.455331          FPR: 0.033689\n",
      "\n",
      "Fit time: 55.74 minutes\n",
      "Predict time: 2.65 minutes\n",
      "\u001b[32mMax depth: 20\u001b[0m\n",
      "\u001b[32mNumber of thresholds for num attr: 2\u001b[0m\n",
      "\u001b[32mMin samples split: 100\u001b[0m\n",
      "PARAMETERS:\n",
      "\tCRITERION: Entropy\n",
      "\tTYPE CRITERION: Best\n",
      "\tMAX DEPTH: 20\n",
      "\tMIN SAMPLES SPLIT: 100\n",
      "\tNUM THRESHOLDS NUMERICAL ATTR: 2\n",
      "\n"
     ]
    },
    {
     "name": "stderr",
     "output_type": "stream",
     "text": [
      "dot: graph is too large for cairo-renderer bitmaps. Scaling by 0.119816 to fit\n"
     ]
    },
    {
     "name": "stdout",
     "output_type": "stream",
     "text": [
      "PERFORMANCES:\n",
      "    F1 score: 0.026557     Accuracy: 0.965787\n",
      "   Precision: 0.013677       Recall: 0.455331\n",
      "          TP:      474           TN:   980446\n",
      "          FP:    34182           FN:      567\n",
      "         TPR: 0.455331          FPR: 0.033689\n",
      "\n",
      "Fit time: 49.65 minutes\n",
      "Predict time: 2.73 minutes\n",
      "\u001b[32mMax depth: 20\u001b[0m\n",
      "\u001b[32mNumber of thresholds for num attr: 4\u001b[0m\n",
      "\u001b[32mMin samples split: 2\u001b[0m\n",
      "PARAMETERS:\n",
      "\tCRITERION: Entropy\n",
      "\tTYPE CRITERION: Best\n",
      "\tMAX DEPTH: 20\n",
      "\tMIN SAMPLES SPLIT: 2\n",
      "\tNUM THRESHOLDS NUMERICAL ATTR: 4\n",
      "\n"
     ]
    },
    {
     "name": "stderr",
     "output_type": "stream",
     "text": [
      "dot: graph is too large for cairo-renderer bitmaps. Scaling by 0.117254 to fit\n"
     ]
    },
    {
     "name": "stdout",
     "output_type": "stream",
     "text": [
      "PERFORMANCES:\n",
      "    F1 score: 0.024872     Accuracy: 0.963406\n",
      "   Precision: 0.012785       Recall: 0.455331\n",
      "          TP:      474           TN:   978028\n",
      "          FP:    36600           FN:      567\n",
      "         TPR: 0.455331          FPR: 0.036072\n",
      "\n",
      "Fit time: 57.27 minutes\n",
      "Predict time: 2.56 minutes\n",
      "\u001b[32mMax depth: 20\u001b[0m\n",
      "\u001b[32mNumber of thresholds for num attr: 4\u001b[0m\n",
      "\u001b[32mMin samples split: 100\u001b[0m\n",
      "PARAMETERS:\n",
      "\tCRITERION: Entropy\n",
      "\tTYPE CRITERION: Best\n",
      "\tMAX DEPTH: 20\n",
      "\tMIN SAMPLES SPLIT: 100\n",
      "\tNUM THRESHOLDS NUMERICAL ATTR: 4\n",
      "\n"
     ]
    },
    {
     "name": "stderr",
     "output_type": "stream",
     "text": [
      "dot: graph is too large for cairo-renderer bitmaps. Scaling by 0.117254 to fit\n"
     ]
    },
    {
     "name": "stdout",
     "output_type": "stream",
     "text": [
      "PERFORMANCES:\n",
      "    F1 score: 0.024872     Accuracy: 0.963406\n",
      "   Precision: 0.012785       Recall: 0.455331\n",
      "          TP:      474           TN:   978028\n",
      "          FP:    36600           FN:      567\n",
      "         TPR: 0.455331          FPR: 0.036072\n",
      "\n",
      "Fit time: 57.44 minutes\n",
      "Predict time: 2.56 minutes\n",
      "\u001b[32mMax depth: 20\u001b[0m\n",
      "\u001b[32mNumber of thresholds for num attr: 6\u001b[0m\n",
      "\u001b[32mMin samples split: 2\u001b[0m\n",
      "PARAMETERS:\n",
      "\tCRITERION: Entropy\n",
      "\tTYPE CRITERION: Best\n",
      "\tMAX DEPTH: 20\n",
      "\tMIN SAMPLES SPLIT: 2\n",
      "\tNUM THRESHOLDS NUMERICAL ATTR: 6\n",
      "\n"
     ]
    },
    {
     "name": "stderr",
     "output_type": "stream",
     "text": [
      "dot: graph is too large for cairo-renderer bitmaps. Scaling by 0.138289 to fit\n"
     ]
    },
    {
     "name": "stdout",
     "output_type": "stream",
     "text": [
      "PERFORMANCES:\n",
      "    F1 score: 0.024460     Accuracy: 0.964109\n",
      "   Precision: 0.012581       Recall: 0.439001\n",
      "          TP:      457           TN:   978759\n",
      "          FP:    35869           FN:      584\n",
      "         TPR: 0.439001          FPR: 0.035352\n",
      "\n",
      "Fit time: 64.89 minutes\n",
      "Predict time: 2.89 minutes\n",
      "\u001b[32mMax depth: 20\u001b[0m\n",
      "\u001b[32mNumber of thresholds for num attr: 6\u001b[0m\n",
      "\u001b[32mMin samples split: 100\u001b[0m\n",
      "PARAMETERS:\n",
      "\tCRITERION: Entropy\n",
      "\tTYPE CRITERION: Best\n",
      "\tMAX DEPTH: 20\n",
      "\tMIN SAMPLES SPLIT: 100\n",
      "\tNUM THRESHOLDS NUMERICAL ATTR: 6\n",
      "\n"
     ]
    },
    {
     "name": "stderr",
     "output_type": "stream",
     "text": [
      "dot: graph is too large for cairo-renderer bitmaps. Scaling by 0.138289 to fit\n"
     ]
    },
    {
     "name": "stdout",
     "output_type": "stream",
     "text": [
      "PERFORMANCES:\n",
      "    F1 score: 0.024460     Accuracy: 0.964109\n",
      "   Precision: 0.012581       Recall: 0.439001\n",
      "          TP:      457           TN:   978759\n",
      "          FP:    35869           FN:      584\n",
      "         TPR: 0.439001          FPR: 0.035352\n",
      "\n",
      "Fit time: 72.33 minutes\n",
      "Predict time: 2.81 minutes\n"
     ]
    }
   ],
   "source": [
    "df_train, df_test = original_df_train, original_df_test\n",
    "df_train = oversampling(df_train, VERBOSE=False)\n",
    "custom_alg_experiment(df_train, df_test, \"oversampling\", start_index=18, end_index=24)"
   ]
  },
  {
   "cell_type": "markdown",
   "metadata": {},
   "source": [
    "### C4.5\n"
   ]
  },
  {
   "cell_type": "code",
   "execution_count": 5,
   "metadata": {},
   "outputs": [],
   "source": [
    "max_depths = [4, 8, 12]\n",
    "hp_min_samples_split_values = [2, 100]\n",
    "\n",
    "def c45_experiment(df_train, df_test, type, start_index=0, end_index=6):\n",
    "    X_train, y_train = get_X_and_Y(df_train, verbose=VERBOSE)\n",
    "    X_test, y_test = get_X_and_Y(df_test, verbose=VERBOSE)\n",
    "\n",
    "    k = 0\n",
    "\n",
    "    for max_depth in max_depths:\n",
    "        for min_samples_split in hp_min_samples_split_values:\n",
    "\n",
    "            if k < start_index or k > end_index:\n",
    "                k += 1\n",
    "                continue\n",
    "\n",
    "            k += 1\n",
    "            \n",
    "            printGreen(f\"Max depth: {max_depth}\")\n",
    "            printGreen(f\"Min samples split: {min_samples_split}\")\n",
    "        \n",
    "            start_time = time.time()\n",
    "            decision_tree = DecisionTreeC45(max_depth=max_depth, min_samples_split=min_samples_split)\n",
    "            decision_tree.fit(X_train, y_train)\n",
    "            end_time = time.time()\n",
    "            decision_tree.create_dot_files(filename=f\"tree-c45-{type}\", generate_png=True, view=VIEW)\n",
    "            print(\"PERFORMANCES:\")\n",
    "            predictions = list(decision_tree.predict_test(X_test))\n",
    "                \n",
    "            calculate_performances(predictions, y_test, \"c45\", verbose=True)\n",
    "\n",
    "            print(\"\\nFit time: %.2f minutes\" % ((end_time - start_time) / 60))\n",
    "            print(\"Predict time: %.2f minutes\" % ((time.time() - end_time) / 60))\n"
   ]
  },
  {
   "cell_type": "code",
   "execution_count": 18,
   "metadata": {},
   "outputs": [
    {
     "name": "stdout",
     "output_type": "stream",
     "text": [
      "\u001b[94mPreprocessing: Undersampling\u001b[0m\n",
      "\u001b[32mMax depth: 4\u001b[0m\n",
      "\u001b[32mMin samples split: 2\u001b[0m\n",
      "PARAMETERS:\n",
      "\tMAX DEPTH: 4\n",
      "\n",
      "PERFORMANCES:\n",
      "    F1 score: 0.013796     Accuracy: 0.869793\n",
      "   Precision: 0.006952       Recall: 0.888569\n",
      "          TP:      925           TN:   882497\n",
      "          FP:   132131           FN:      116\n",
      "         TPR: 0.888569          FPR: 0.130226\n",
      "\n",
      "Fit time: 0.07 minutes\n",
      "Predict time: 1.36 minutes\n",
      "\u001b[32mMax depth: 4\u001b[0m\n",
      "\u001b[32mMin samples split: 100\u001b[0m\n",
      "PARAMETERS:\n",
      "\tMAX DEPTH: 4\n",
      "\n",
      "PERFORMANCES:\n",
      "    F1 score: 0.013600     Accuracy: 0.869175\n",
      "   Precision: 0.006853       Recall: 0.879923\n",
      "          TP:      916           TN:   881878\n",
      "          FP:   132750           FN:      125\n",
      "         TPR: 0.879923          FPR: 0.130836\n",
      "\n",
      "Fit time: 0.07 minutes\n",
      "Predict time: 1.32 minutes\n",
      "\u001b[32mMax depth: 8\u001b[0m\n",
      "\u001b[32mMin samples split: 2\u001b[0m\n",
      "PARAMETERS:\n",
      "\tMAX DEPTH: 8\n",
      "\n",
      "PERFORMANCES:\n",
      "    F1 score: 0.012974     Accuracy: 0.861574\n",
      "   Precision: 0.006535       Recall: 0.887608\n",
      "          TP:      924           TN:   874150\n",
      "          FP:   140478           FN:      117\n",
      "         TPR: 0.887608          FPR: 0.138453\n",
      "\n",
      "Fit time: 0.06 minutes\n",
      "Predict time: 1.25 minutes\n",
      "\u001b[32mMax depth: 8\u001b[0m\n",
      "\u001b[32mMin samples split: 100\u001b[0m\n",
      "PARAMETERS:\n",
      "\tMAX DEPTH: 8\n",
      "\n",
      "PERFORMANCES:\n",
      "    F1 score: 0.012976     Accuracy: 0.861601\n",
      "   Precision: 0.006536       Recall: 0.887608\n",
      "          TP:      924           TN:   874177\n",
      "          FP:   140451           FN:      117\n",
      "         TPR: 0.887608          FPR: 0.138426\n",
      "\n",
      "Fit time: 0.06 minutes\n",
      "Predict time: 1.25 minutes\n",
      "\u001b[32mMax depth: 12\u001b[0m\n",
      "\u001b[32mMin samples split: 2\u001b[0m\n",
      "PARAMETERS:\n",
      "\tMAX DEPTH: 12\n",
      "\n",
      "PERFORMANCES:\n",
      "    F1 score: 0.012974     Accuracy: 0.861574\n",
      "   Precision: 0.006535       Recall: 0.887608\n",
      "          TP:      924           TN:   874150\n",
      "          FP:   140478           FN:      117\n",
      "         TPR: 0.887608          FPR: 0.138453\n",
      "\n",
      "Fit time: 0.06 minutes\n",
      "Predict time: 1.24 minutes\n",
      "\u001b[32mMax depth: 12\u001b[0m\n",
      "\u001b[32mMin samples split: 100\u001b[0m\n",
      "PARAMETERS:\n",
      "\tMAX DEPTH: 12\n",
      "\n",
      "PERFORMANCES:\n",
      "    F1 score: 0.012976     Accuracy: 0.861601\n",
      "   Precision: 0.006536       Recall: 0.887608\n",
      "          TP:      924           TN:   874177\n",
      "          FP:   140451           FN:      117\n",
      "         TPR: 0.887608          FPR: 0.138426\n",
      "\n",
      "Fit time: 0.07 minutes\n",
      "Predict time: 1.31 minutes\n"
     ]
    }
   ],
   "source": [
    "printLBlue(\"Preprocessing: Undersampling\")\n",
    "df_train, df_test = original_df_train, original_df_test\n",
    "df_train = undersampling(df_train, VERBOSE=False)\n",
    "c45_experiment(df_train, df_test, \"undersampling\")"
   ]
  },
  {
   "cell_type": "code",
   "execution_count": 19,
   "metadata": {},
   "outputs": [
    {
     "name": "stdout",
     "output_type": "stream",
     "text": [
      "\u001b[94mPreprocessing: Oversampling\u001b[0m\n",
      "\u001b[32mMax depth: 4\u001b[0m\n",
      "\u001b[32mMin samples split: 2\u001b[0m\n",
      "PARAMETERS:\n",
      "\tMAX DEPTH: 4\n",
      "\n",
      "PERFORMANCES:\n",
      "    F1 score: 0.015387     Accuracy: 0.888608\n",
      "   Precision: 0.007764       Recall: 0.849183\n",
      "          TP:      884           TN:   901648\n",
      "          FP:   112980           FN:      157\n",
      "         TPR: 0.849183          FPR: 0.111351\n",
      "\n",
      "Fit time: 49.64 minutes\n",
      "Predict time: 1.80 minutes\n",
      "\u001b[32mMax depth: 4\u001b[0m\n",
      "\u001b[32mMin samples split: 100\u001b[0m\n",
      "PARAMETERS:\n",
      "\tMAX DEPTH: 4\n",
      "\n",
      "PERFORMANCES:\n",
      "    F1 score: 0.015387     Accuracy: 0.888608\n",
      "   Precision: 0.007764       Recall: 0.849183\n",
      "          TP:      884           TN:   901648\n",
      "          FP:   112980           FN:      157\n",
      "         TPR: 0.849183          FPR: 0.111351\n",
      "\n",
      "Fit time: 49.48 minutes\n",
      "Predict time: 1.78 minutes\n",
      "\u001b[32mMax depth: 8\u001b[0m\n",
      "\u001b[32mMin samples split: 2\u001b[0m\n",
      "PARAMETERS:\n",
      "\tMAX DEPTH: 8\n",
      "\n",
      "PERFORMANCES:\n",
      "    F1 score: 0.014815     Accuracy: 0.882675\n",
      "   Precision: 0.007472       Recall: 0.860711\n",
      "          TP:      896           TN:   895610\n",
      "          FP:   119018           FN:      145\n",
      "         TPR: 0.860711          FPR: 0.117302\n",
      "\n",
      "Fit time: 45.83 minutes\n",
      "Predict time: 1.55 minutes\n",
      "\u001b[32mMax depth: 8\u001b[0m\n",
      "\u001b[32mMin samples split: 100\u001b[0m\n",
      "PARAMETERS:\n",
      "\tMAX DEPTH: 8\n",
      "\n",
      "PERFORMANCES:\n",
      "    F1 score: 0.014815     Accuracy: 0.882675\n",
      "   Precision: 0.007472       Recall: 0.860711\n",
      "          TP:      896           TN:   895610\n",
      "          FP:   119018           FN:      145\n",
      "         TPR: 0.860711          FPR: 0.117302\n",
      "\n",
      "Fit time: 44.29 minutes\n",
      "Predict time: 1.54 minutes\n"
     ]
    }
   ],
   "source": [
    "printLBlue(\"Preprocessing: Oversampling\")\n",
    "df_train, df_test = original_df_train, original_df_test\n",
    "df_train = oversampling(df_train, VERBOSE=False)\n",
    "c45_experiment(df_train, df_test, \"oversampling\", start_index=0, end_index=3)"
   ]
  },
  {
   "cell_type": "code",
   "execution_count": 6,
   "metadata": {},
   "outputs": [
    {
     "name": "stdout",
     "output_type": "stream",
     "text": [
      "\u001b[94mPreprocessing: Oversampling\u001b[0m\n",
      "\u001b[32mMax depth: 12\u001b[0m\n",
      "\u001b[32mMin samples split: 2\u001b[0m\n",
      "PARAMETERS:\n",
      "\tMAX DEPTH: 12\n",
      "\n",
      "PERFORMANCES:\n",
      "    F1 score: 0.014815     Accuracy: 0.882675\n",
      "   Precision: 0.007472       Recall: 0.860711\n",
      "          TP:      896           TN:   895610\n",
      "          FP:   119018           FN:      145\n",
      "         TPR: 0.860711          FPR: 0.117302\n",
      "\n",
      "Fit time: 47.06 minutes\n",
      "Predict time: 1.60 minutes\n",
      "\u001b[32mMax depth: 12\u001b[0m\n",
      "\u001b[32mMin samples split: 100\u001b[0m\n",
      "PARAMETERS:\n",
      "\tMAX DEPTH: 12\n",
      "\n",
      "PERFORMANCES:\n",
      "    F1 score: 0.014815     Accuracy: 0.882675\n",
      "   Precision: 0.007472       Recall: 0.860711\n",
      "          TP:      896           TN:   895610\n",
      "          FP:   119018           FN:      145\n",
      "         TPR: 0.860711          FPR: 0.117302\n",
      "\n",
      "Fit time: 47.33 minutes\n",
      "Predict time: 1.54 minutes\n"
     ]
    }
   ],
   "source": [
    "printLBlue(\"Preprocessing: Oversampling\")\n",
    "df_train, df_test = original_df_train, original_df_test\n",
    "df_train = oversampling(df_train, VERBOSE=False)\n",
    "c45_experiment(df_train, df_test, \"oversampling\", start_index=4, end_index=6)"
   ]
  }
 ],
 "metadata": {
  "kernelspec": {
   "display_name": "Python 3 (ipykernel)",
   "language": "python",
   "name": "python3"
  },
  "language_info": {
   "codemirror_mode": {
    "name": "ipython",
    "version": 3
   },
   "file_extension": ".py",
   "mimetype": "text/x-python",
   "name": "python",
   "nbconvert_exporter": "python",
   "pygments_lexer": "ipython3",
   "version": "3.10.12"
  },
  "varInspector": {
   "cols": {
    "lenName": 16,
    "lenType": 16,
    "lenVar": 40
   },
   "kernels_config": {
    "python": {
     "delete_cmd_postfix": "",
     "delete_cmd_prefix": "del ",
     "library": "var_list.py",
     "varRefreshCmd": "print(var_dic_list())"
    },
    "r": {
     "delete_cmd_postfix": ") ",
     "delete_cmd_prefix": "rm(",
     "library": "var_list.r",
     "varRefreshCmd": "cat(var_dic_list()) "
    }
   },
   "types_to_exclude": [
    "module",
    "function",
    "builtin_function_or_method",
    "instance",
    "_Feature"
   ],
   "window_display": false
  }
 },
 "nbformat": 4,
 "nbformat_minor": 2
}
