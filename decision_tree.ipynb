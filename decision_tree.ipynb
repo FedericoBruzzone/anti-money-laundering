{
 "cells": [
  {
   "cell_type": "code",
   "execution_count": 1,
   "metadata": {},
   "outputs": [],
   "source": [
    "if 'google.colab' in str(get_ipython()):\n",
    "    GITHUB_TOKEN = \"\"\n",
    "    !rm -rf anti_money_laundering\n",
    "    !git clone https://{GITHUB_TOKEN}@github.com/FedericoBruzzone/anti_money_laundering.git\n",
    "    !mv anti_money_laundering/* \n",
    "    !rm -rf anti_money_laundering"
   ]
  },
  {
   "cell_type": "code",
   "execution_count": 2,
   "metadata": {},
   "outputs": [
    {
     "name": "stdout",
     "output_type": "stream",
     "text": [
      "Downloading dataset...\n",
      "Done.\n"
     ]
    }
   ],
   "source": [
    "import os\n",
    "from dotenv import load_dotenv\n",
    "load_dotenv()\n",
    "\n",
    "import time\n",
    "import pandas as pd\n",
    "\n",
    "import warnings\n",
    "warnings.filterwarnings(\"ignore\", category=DeprecationWarning)\n",
    "warnings.filterwarnings(\"ignore\", category=UserWarning)\n",
    "warnings.filterwarnings(\"ignore\", category=FutureWarning)\n",
    "\n",
    "from src.utils.kaggle_config            import setup_kaggle\n",
    "from src.utils.kaggle_config            import download_dataset\n",
    "\n",
    "from src.utils.datasets_handler         import (get_train_and_test,\n",
    "                                                get_X_and_Y,\n",
    "                                                print_dataset,\n",
    "                                                label_encoder,\n",
    "                                                split_timestamp)\n",
    "from src.utils.performance_measures     import calculate_performances\n",
    "from src.utils.plot_measures            import (plot_correlation_matrix,  \n",
    "                                                plot_numerical_histograms, \n",
    "                                                plot_roc_curve,\n",
    "                                                plot_confusion_matrix)\n",
    "from src.utils.dataset_sampling_methods import (oversampling,\n",
    "                                                undersampling,\n",
    "                                                bootstrap_sampling)\n",
    "\n",
    "from src.utils.print_utils              import (printLBlue, printGreen)\n",
    "\n",
    "from src.decision_tree.decision_tree    import CustomDecisionTree\n",
    "from src.decision_tree.ID3              import DecisionTreeID3\n",
    "from src.decision_tree.C45              import DecisionTreeC45\n",
    "from src.decision_tree.entropy_type     import EntropyType\n",
    "from src.decision_tree.criterion_type   import CriterionType\n",
    "\n",
    "from IPython.display import Image, display\n",
    "\n",
    "VERBOSE = int(os.getenv('VERBOSE'))\n",
    "VIEW = os.getenv('VIEW')\n",
    "\n",
    "setup_kaggle()\n",
    "print(\"Downloading dataset...\") \n",
    "download_dataset(\"iammustafatz/diabetes-prediction-dataset\")\n",
    "download_dataset(\"ealtman2019/ibm-transactions-for-anti-money-laundering-aml\")\n",
    "print(\"Done.\")\n",
    "\n",
    "hi_small_trans = \"HI-Small_Trans.csv\"\n",
    "diabetes = \"diabetes_prediction_dataset.csv\""
   ]
  },
  {
   "cell_type": "markdown",
   "metadata": {},
   "source": [
    "## Preliminary test: Diabetes Dataset"
   ]
  },
  {
   "cell_type": "code",
   "execution_count": null,
   "metadata": {},
   "outputs": [],
   "source": [
    "df_train, df_test = get_train_and_test(diabetes, verbose=VERBOSE)\n",
    "X_train, y_train = get_X_and_Y(df_train, verbose=VERBOSE)\n",
    "X_test, y_test = get_X_and_Y(df_test, verbose=VERBOSE)\n",
    "X_train, _ = label_encoder(X_train, ['gender', 'smoking_history'])\n",
    "X_test,  _ = label_encoder(X_test, ['gender', 'smoking_history'])"
   ]
  },
  {
   "cell_type": "markdown",
   "metadata": {},
   "source": [
    "### ID3"
   ]
  },
  {
   "cell_type": "code",
   "execution_count": null,
   "metadata": {},
   "outputs": [],
   "source": [
    "print(\"---------------------- ID3 --------------------------\")    \n",
    "start_time = time.time()\n",
    "decision_tree: DecisionTreeID3 = DecisionTreeID3(max_depth=10, \n",
    "                                                    num_thresholds_numerical_attr=6)\n",
    "decision_tree.fit(X_train, y_train)\n",
    "end_time = time.time()\n",
    "decision_tree.create_dot_files(filename=\"tree-id3-diabetes\", generate_png=True, view=\"\")\n",
    "print()\n",
    "print(\"Performances: \")\n",
    "predictions = list(decision_tree.predict_test(X_test))\n",
    "print(f\"Fit time: {end_time - start_time} seconds\") \n",
    "calculate_performances(predictions, y_test, \"id3\", verbose=True)\n",
    "print(\"-------------------------- END ID3 --------------------------\")"
   ]
  },
  {
   "cell_type": "code",
   "execution_count": null,
   "metadata": {},
   "outputs": [],
   "source": [
    "display(Image(filename='./dot_figs/tree-id3-diabetes.png'))"
   ]
  },
  {
   "cell_type": "markdown",
   "metadata": {},
   "source": [
    "### Custom"
   ]
  },
  {
   "cell_type": "code",
   "execution_count": null,
   "metadata": {},
   "outputs": [],
   "source": [
    "print(\"-------------------------- CUSTOM --------------------------\")\n",
    "start_time = time.time()\n",
    "decision_tree = CustomDecisionTree(criterion=EntropyType.SHANNON, \n",
    "                                    type_criterion=CriterionType.BEST, \n",
    "                                    max_depth=10, \n",
    "                                    min_samples_split=20,\n",
    "                                    num_thresholds_numerical_attr=6)\n",
    "decision_tree.fit(X_train, y_train)\n",
    "end_time = time.time()\n",
    "decision_tree.create_dot_files(filename=\"tree-custom-diabetes\", generate_png=True, view=\"\")\n",
    "print()\n",
    "print(\"Performances: \") \n",
    "predictions = list(decision_tree.predict_test(X_test))\n",
    "print(f\"Fit time: {end_time - start_time} seconds\")\n",
    "calculate_performances(predictions, y_test, \"custom\", verbose=True)\n",
    "print(\"-------------------------- END CUSTOM --------------------------\")"
   ]
  },
  {
   "cell_type": "code",
   "execution_count": null,
   "metadata": {},
   "outputs": [],
   "source": [
    "display(Image(filename='./dot_figs/tree-custom-diabetes.png'))"
   ]
  },
  {
   "cell_type": "markdown",
   "metadata": {},
   "source": [
    "## IBM Money Laundering Dataset"
   ]
  },
  {
   "cell_type": "code",
   "execution_count": 3,
   "metadata": {},
   "outputs": [
    {
     "name": "stdout",
     "output_type": "stream",
     "text": [
      "Length of training set: 4062676     Length of test set: 1015669\n"
     ]
    },
    {
     "data": {
      "text/html": [
       "<div>\n",
       "<style scoped>\n",
       "    .dataframe tbody tr th:only-of-type {\n",
       "        vertical-align: middle;\n",
       "    }\n",
       "\n",
       "    .dataframe tbody tr th {\n",
       "        vertical-align: top;\n",
       "    }\n",
       "\n",
       "    .dataframe thead th {\n",
       "        text-align: right;\n",
       "    }\n",
       "</style>\n",
       "<table border=\"1\" class=\"dataframe\">\n",
       "  <thead>\n",
       "    <tr style=\"text-align: right;\">\n",
       "      <th></th>\n",
       "      <th>Timestamp</th>\n",
       "      <th>From Bank</th>\n",
       "      <th>Account</th>\n",
       "      <th>To Bank</th>\n",
       "      <th>Account.1</th>\n",
       "      <th>Amount Received</th>\n",
       "      <th>Receiving Currency</th>\n",
       "      <th>Amount Paid</th>\n",
       "      <th>Payment Currency</th>\n",
       "      <th>Payment Format</th>\n",
       "      <th>Is Laundering</th>\n",
       "    </tr>\n",
       "  </thead>\n",
       "  <tbody>\n",
       "    <tr>\n",
       "      <th>4205263</th>\n",
       "      <td>2022/09/08 23:03</td>\n",
       "      <td>70</td>\n",
       "      <td>100428A08</td>\n",
       "      <td>148586</td>\n",
       "      <td>8120D5550</td>\n",
       "      <td>13204.53</td>\n",
       "      <td>Saudi Riyal</td>\n",
       "      <td>13204.53</td>\n",
       "      <td>Saudi Riyal</td>\n",
       "      <td>Cash</td>\n",
       "      <td>0</td>\n",
       "    </tr>\n",
       "    <tr>\n",
       "      <th>3270156</th>\n",
       "      <td>2022/09/07 00:15</td>\n",
       "      <td>1132</td>\n",
       "      <td>80C50E4A0</td>\n",
       "      <td>28</td>\n",
       "      <td>80B7644F0</td>\n",
       "      <td>329.94</td>\n",
       "      <td>Mexican Peso</td>\n",
       "      <td>329.94</td>\n",
       "      <td>Mexican Peso</td>\n",
       "      <td>Credit Card</td>\n",
       "      <td>0</td>\n",
       "    </tr>\n",
       "    <tr>\n",
       "      <th>2669041</th>\n",
       "      <td>2022/09/05 18:41</td>\n",
       "      <td>70</td>\n",
       "      <td>1004288E8</td>\n",
       "      <td>32814</td>\n",
       "      <td>80C1FC0D0</td>\n",
       "      <td>54497.52</td>\n",
       "      <td>Mexican Peso</td>\n",
       "      <td>54497.52</td>\n",
       "      <td>Mexican Peso</td>\n",
       "      <td>Credit Card</td>\n",
       "      <td>0</td>\n",
       "    </tr>\n",
       "    <tr>\n",
       "      <th>262487</th>\n",
       "      <td>2022/09/01 00:03</td>\n",
       "      <td>210</td>\n",
       "      <td>8000A4B20</td>\n",
       "      <td>226548</td>\n",
       "      <td>809D2E6E0</td>\n",
       "      <td>6370.84</td>\n",
       "      <td>Canadian Dollar</td>\n",
       "      <td>6370.84</td>\n",
       "      <td>Canadian Dollar</td>\n",
       "      <td>ACH</td>\n",
       "      <td>0</td>\n",
       "    </tr>\n",
       "    <tr>\n",
       "      <th>2618957</th>\n",
       "      <td>2022/09/05 16:19</td>\n",
       "      <td>21</td>\n",
       "      <td>803F9CB00</td>\n",
       "      <td>9679</td>\n",
       "      <td>804679BD0</td>\n",
       "      <td>21376.33</td>\n",
       "      <td>Yen</td>\n",
       "      <td>21376.33</td>\n",
       "      <td>Yen</td>\n",
       "      <td>Cheque</td>\n",
       "      <td>0</td>\n",
       "    </tr>\n",
       "  </tbody>\n",
       "</table>\n",
       "</div>"
      ],
      "text/plain": [
       "                Timestamp  From Bank    Account  To Bank  Account.1  \\\n",
       "4205263  2022/09/08 23:03         70  100428A08   148586  8120D5550   \n",
       "3270156  2022/09/07 00:15       1132  80C50E4A0       28  80B7644F0   \n",
       "2669041  2022/09/05 18:41         70  1004288E8    32814  80C1FC0D0   \n",
       "262487   2022/09/01 00:03        210  8000A4B20   226548  809D2E6E0   \n",
       "2618957  2022/09/05 16:19         21  803F9CB00     9679  804679BD0   \n",
       "\n",
       "         Amount Received Receiving Currency  Amount Paid Payment Currency  \\\n",
       "4205263         13204.53        Saudi Riyal     13204.53      Saudi Riyal   \n",
       "3270156           329.94       Mexican Peso       329.94     Mexican Peso   \n",
       "2669041         54497.52       Mexican Peso     54497.52     Mexican Peso   \n",
       "262487           6370.84    Canadian Dollar      6370.84  Canadian Dollar   \n",
       "2618957         21376.33                Yen     21376.33              Yen   \n",
       "\n",
       "        Payment Format  Is Laundering  \n",
       "4205263           Cash              0  \n",
       "3270156    Credit Card              0  \n",
       "2669041    Credit Card              0  \n",
       "262487             ACH              0  \n",
       "2618957         Cheque              0  "
      ]
     },
     "execution_count": 3,
     "metadata": {},
     "output_type": "execute_result"
    }
   ],
   "source": [
    "original_df_train, original_df_test = get_train_and_test(hi_small_trans, verbose=VERBOSE)\n",
    "\n",
    "print(\"Length of training set:\", len(original_df_train), \"    Length of test set:\", len(original_df_test))\n",
    "\n",
    "original_df_train.head()"
   ]
  },
  {
   "cell_type": "code",
   "execution_count": 4,
   "metadata": {},
   "outputs": [
    {
     "data": {
      "text/html": [
       "<div>\n",
       "<style scoped>\n",
       "    .dataframe tbody tr th:only-of-type {\n",
       "        vertical-align: middle;\n",
       "    }\n",
       "\n",
       "    .dataframe tbody tr th {\n",
       "        vertical-align: top;\n",
       "    }\n",
       "\n",
       "    .dataframe thead th {\n",
       "        text-align: right;\n",
       "    }\n",
       "</style>\n",
       "<table border=\"1\" class=\"dataframe\">\n",
       "  <thead>\n",
       "    <tr style=\"text-align: right;\">\n",
       "      <th></th>\n",
       "      <th>From Bank</th>\n",
       "      <th>Account</th>\n",
       "      <th>To Bank</th>\n",
       "      <th>Account.1</th>\n",
       "      <th>Amount Received</th>\n",
       "      <th>Receiving Currency</th>\n",
       "      <th>Amount Paid</th>\n",
       "      <th>Payment Currency</th>\n",
       "      <th>Payment Format</th>\n",
       "      <th>Date</th>\n",
       "      <th>Hour</th>\n",
       "      <th>Minute</th>\n",
       "      <th>Is Laundering</th>\n",
       "    </tr>\n",
       "  </thead>\n",
       "  <tbody>\n",
       "    <tr>\n",
       "      <th>4205263</th>\n",
       "      <td>70</td>\n",
       "      <td>100428A08</td>\n",
       "      <td>148586</td>\n",
       "      <td>8120D5550</td>\n",
       "      <td>13204.53</td>\n",
       "      <td>Saudi Riyal</td>\n",
       "      <td>13204.53</td>\n",
       "      <td>Saudi Riyal</td>\n",
       "      <td>Cash</td>\n",
       "      <td>2022/09/08</td>\n",
       "      <td>23</td>\n",
       "      <td>3</td>\n",
       "      <td>0</td>\n",
       "    </tr>\n",
       "    <tr>\n",
       "      <th>3270156</th>\n",
       "      <td>1132</td>\n",
       "      <td>80C50E4A0</td>\n",
       "      <td>28</td>\n",
       "      <td>80B7644F0</td>\n",
       "      <td>329.94</td>\n",
       "      <td>Mexican Peso</td>\n",
       "      <td>329.94</td>\n",
       "      <td>Mexican Peso</td>\n",
       "      <td>Credit Card</td>\n",
       "      <td>2022/09/07</td>\n",
       "      <td>0</td>\n",
       "      <td>15</td>\n",
       "      <td>0</td>\n",
       "    </tr>\n",
       "    <tr>\n",
       "      <th>2669041</th>\n",
       "      <td>70</td>\n",
       "      <td>1004288E8</td>\n",
       "      <td>32814</td>\n",
       "      <td>80C1FC0D0</td>\n",
       "      <td>54497.52</td>\n",
       "      <td>Mexican Peso</td>\n",
       "      <td>54497.52</td>\n",
       "      <td>Mexican Peso</td>\n",
       "      <td>Credit Card</td>\n",
       "      <td>2022/09/05</td>\n",
       "      <td>18</td>\n",
       "      <td>41</td>\n",
       "      <td>0</td>\n",
       "    </tr>\n",
       "    <tr>\n",
       "      <th>262487</th>\n",
       "      <td>210</td>\n",
       "      <td>8000A4B20</td>\n",
       "      <td>226548</td>\n",
       "      <td>809D2E6E0</td>\n",
       "      <td>6370.84</td>\n",
       "      <td>Canadian Dollar</td>\n",
       "      <td>6370.84</td>\n",
       "      <td>Canadian Dollar</td>\n",
       "      <td>ACH</td>\n",
       "      <td>2022/09/01</td>\n",
       "      <td>0</td>\n",
       "      <td>3</td>\n",
       "      <td>0</td>\n",
       "    </tr>\n",
       "    <tr>\n",
       "      <th>2618957</th>\n",
       "      <td>21</td>\n",
       "      <td>803F9CB00</td>\n",
       "      <td>9679</td>\n",
       "      <td>804679BD0</td>\n",
       "      <td>21376.33</td>\n",
       "      <td>Yen</td>\n",
       "      <td>21376.33</td>\n",
       "      <td>Yen</td>\n",
       "      <td>Cheque</td>\n",
       "      <td>2022/09/05</td>\n",
       "      <td>16</td>\n",
       "      <td>19</td>\n",
       "      <td>0</td>\n",
       "    </tr>\n",
       "  </tbody>\n",
       "</table>\n",
       "</div>"
      ],
      "text/plain": [
       "         From Bank    Account  To Bank  Account.1  Amount Received  \\\n",
       "4205263         70  100428A08   148586  8120D5550         13204.53   \n",
       "3270156       1132  80C50E4A0       28  80B7644F0           329.94   \n",
       "2669041         70  1004288E8    32814  80C1FC0D0         54497.52   \n",
       "262487         210  8000A4B20   226548  809D2E6E0          6370.84   \n",
       "2618957         21  803F9CB00     9679  804679BD0         21376.33   \n",
       "\n",
       "        Receiving Currency  Amount Paid Payment Currency Payment Format  \\\n",
       "4205263        Saudi Riyal     13204.53      Saudi Riyal           Cash   \n",
       "3270156       Mexican Peso       329.94     Mexican Peso    Credit Card   \n",
       "2669041       Mexican Peso     54497.52     Mexican Peso    Credit Card   \n",
       "262487     Canadian Dollar      6370.84  Canadian Dollar            ACH   \n",
       "2618957                Yen     21376.33              Yen         Cheque   \n",
       "\n",
       "               Date  Hour  Minute  Is Laundering  \n",
       "4205263  2022/09/08    23       3              0  \n",
       "3270156  2022/09/07     0      15              0  \n",
       "2669041  2022/09/05    18      41              0  \n",
       "262487   2022/09/01     0       3              0  \n",
       "2618957  2022/09/05    16      19              0  "
      ]
     },
     "execution_count": 4,
     "metadata": {},
     "output_type": "execute_result"
    }
   ],
   "source": [
    "split_timestamp(original_df_train)\n",
    "split_timestamp(original_df_test)\n",
    "\n",
    "original_df_train.head()"
   ]
  },
  {
   "cell_type": "code",
   "execution_count": 5,
   "metadata": {},
   "outputs": [],
   "source": [
    "original_df_train, _ = label_encoder(original_df_train, ['Date', 'Account', 'Account.1', 'Receiving Currency', 'Payment Currency', 'Payment Format'])\n",
    "original_df_test, _ = label_encoder(original_df_test, ['Date', 'Account', 'Account.1', 'Receiving Currency', 'Payment Currency', 'Payment Format'])"
   ]
  },
  {
   "cell_type": "markdown",
   "metadata": {},
   "source": [
    "### ID3"
   ]
  },
  {
   "cell_type": "code",
   "execution_count": 10,
   "metadata": {},
   "outputs": [],
   "source": [
    "hp_n_thresholds_values = [2, 4, 6]\n",
    "\n",
    "def id3_experiment(df_train, df_test, type):\n",
    "    X_train, y_train = get_X_and_Y(df_train, verbose=VERBOSE)\n",
    "    X_test, y_test = get_X_and_Y(df_test, verbose=VERBOSE)\n",
    "    \n",
    "    for hp_n_thresholds in hp_n_thresholds_values:\n",
    "        printGreen(f\"Number of thresholds: {hp_n_thresholds}\")\n",
    "        start_time = time.time()\n",
    "        decision_tree: DecisionTreeID3 = DecisionTreeID3(max_depth=10, num_thresholds_numerical_attr=hp_n_thresholds)\n",
    "        decision_tree.fit(X_train, y_train)\n",
    "        end_time = time.time()\n",
    "        decision_tree.create_dot_files(filename=f\"tree-id3-{type}-{hp_n_thresholds}\", generate_png=True, view=VIEW)\n",
    "        print(\"PERFORMANCES:\")\n",
    "        predictions = list(decision_tree.predict_test(X_test))\n",
    "        \n",
    "        calculate_performances(predictions, y_test, \"id3\", verbose=True)\n",
    "\n",
    "        print(\"\\nFit time: %.2f minutes\" % ((end_time - start_time) / 60))\n",
    "        print(\"Predict time: %.2f minutes\" % ((time.time() - end_time) / 60))\n"
   ]
  },
  {
   "cell_type": "code",
   "execution_count": null,
   "metadata": {},
   "outputs": [],
   "source": [
    "printLBlue(\"Without preprocessing\")\n",
    "df_train, df_test = original_df_train, original_df_test\n",
    "id3_experiment(df_train, df_test, \"wo_preprocessing\")"
   ]
  },
  {
   "cell_type": "code",
   "execution_count": 11,
   "metadata": {},
   "outputs": [
    {
     "name": "stdout",
     "output_type": "stream",
     "text": [
      "\u001b[94mPreprocessing: Undersampling\u001b[0m\n",
      "\u001b[32mNumber of thresholds: 2\u001b[0m\n",
      "PARAMETERS:\n",
      "\tMAX DEPTH: 10\n",
      "\tNUM THRESHOLDS NUMERICAL ATTR: 2\n",
      "\n",
      "PERFORMANCES:\n",
      "    F1 score: 0.000485     Accuracy: 0.699764\n",
      "   Precision: 0.000243       Recall: 0.069030\n",
      "          TP:       74           TN:   710655\n",
      "          FP:   303942           FN:      998\n",
      "         TPR: 0.069030          FPR: 0.299569\n",
      "\n",
      "Fit time: 0.01 minutes\n",
      "Predict time: 2.20 minutes\n",
      "\u001b[32mNumber of thresholds: 4\u001b[0m\n",
      "PARAMETERS:\n",
      "\tMAX DEPTH: 10\n",
      "\tNUM THRESHOLDS NUMERICAL ATTR: 4\n",
      "\n",
      "PERFORMANCES:\n",
      "    F1 score: 0.000499     Accuracy: 0.720194\n",
      "   Precision: 0.000251       Recall: 0.066231\n",
      "          TP:       71           TN:   731408\n",
      "          FP:   283189           FN:     1001\n",
      "         TPR: 0.066231          FPR: 0.279115\n",
      "\n",
      "Fit time: 0.03 minutes\n",
      "Predict time: 2.34 minutes\n",
      "\u001b[32mNumber of thresholds: 6\u001b[0m\n",
      "PARAMETERS:\n",
      "\tMAX DEPTH: 10\n",
      "\tNUM THRESHOLDS NUMERICAL ATTR: 6\n",
      "\n",
      "PERFORMANCES:\n",
      "    F1 score: 0.000316     Accuracy: 0.738080\n",
      "   Precision: 0.000158       Recall: 0.039179\n",
      "          TP:       42           TN:   749603\n",
      "          FP:   264994           FN:     1030\n",
      "         TPR: 0.039179          FPR: 0.261182\n",
      "\n",
      "Fit time: 0.02 minutes\n",
      "Predict time: 2.26 minutes\n"
     ]
    }
   ],
   "source": [
    "printLBlue(\"Preprocessing: Undersampling\")\n",
    "df_train, df_test = original_df_train, original_df_test\n",
    "df_train = undersampling(df_train, VERBOSE=False)\n",
    "id3_experiment(df_train, df_test, \"undersampling\")"
   ]
  },
  {
   "cell_type": "code",
   "execution_count": 12,
   "metadata": {},
   "outputs": [
    {
     "name": "stdout",
     "output_type": "stream",
     "text": [
      "\u001b[94mPreprocessing: Oversampling\u001b[0m\n",
      "\u001b[32mNumber of thresholds: 2\u001b[0m\n",
      "PARAMETERS:\n",
      "\tMAX DEPTH: 10\n",
      "\tNUM THRESHOLDS NUMERICAL ATTR: 2\n",
      "\n",
      "PERFORMANCES:\n",
      "    F1 score: 0.000366     Accuracy: 0.725997\n",
      "   Precision: 0.000184       Recall: 0.047575\n",
      "          TP:       51           TN:   737322\n",
      "          FP:   277275           FN:     1021\n",
      "         TPR: 0.047575          FPR: 0.273286\n",
      "\n",
      "Fit time: 2.23 minutes\n",
      "Predict time: 2.20 minutes\n",
      "\u001b[32mNumber of thresholds: 4\u001b[0m\n",
      "PARAMETERS:\n",
      "\tMAX DEPTH: 10\n",
      "\tNUM THRESHOLDS NUMERICAL ATTR: 4\n",
      "\n",
      "PERFORMANCES:\n",
      "    F1 score: 0.000316     Accuracy: 0.738230\n",
      "   Precision: 0.000159       Recall: 0.039179\n",
      "          TP:       42           TN:   749755\n",
      "          FP:   264842           FN:     1030\n",
      "         TPR: 0.039179          FPR: 0.261032\n",
      "\n",
      "Fit time: 2.78 minutes\n",
      "Predict time: 2.48 minutes\n",
      "\u001b[32mNumber of thresholds: 6\u001b[0m\n",
      "PARAMETERS:\n",
      "\tMAX DEPTH: 10\n",
      "\tNUM THRESHOLDS NUMERICAL ATTR: 6\n",
      "\n",
      "PERFORMANCES:\n",
      "    F1 score: 0.000316     Accuracy: 0.738271\n",
      "   Precision: 0.000159       Recall: 0.039179\n",
      "          TP:       42           TN:   749797\n",
      "          FP:   264800           FN:     1030\n",
      "         TPR: 0.039179          FPR: 0.260990\n",
      "\n",
      "Fit time: 2.96 minutes\n",
      "Predict time: 2.61 minutes\n"
     ]
    }
   ],
   "source": [
    "printLBlue(\"Preprocessing: Oversampling\")\n",
    "df_train, df_test = original_df_train, original_df_test\n",
    "df_train = oversampling(df_train, VERBOSE=False)\n",
    "id3_experiment(df_train, df_test, \"oversampling\")"
   ]
  },
  {
   "cell_type": "markdown",
   "metadata": {},
   "source": [
    "### Custom Algorithm"
   ]
  },
  {
   "cell_type": "code",
   "execution_count": 13,
   "metadata": {},
   "outputs": [],
   "source": [
    "def custom_alg_experiment(df_train, df_test, type): \n",
    "    X_train, y_train = get_X_and_Y(df_train, verbose=VERBOSE)\n",
    "    X_test, y_test = get_X_and_Y(df_test, verbose=VERBOSE)\n",
    "\n",
    "    start_time = time.time()\n",
    "    decision_tree = CustomDecisionTree(max_depth=10, \n",
    "                                       min_samples_split=20,\n",
    "                                       num_thresholds_numerical_attr=6)\n",
    "    decision_tree.fit(X_train, y_train)\n",
    "    end_time = time.time()\n",
    "    decision_tree.create_dot_files(filename=\"tree-custom\", generate_png=True, view=VIEW)\n",
    "    \n",
    "    print(\"PERFORMANCES:\") \n",
    "    predictions = list(decision_tree.predict_test(X_test))\n",
    "    \n",
    "    calculate_performances(predictions, y_test, \"custom\", verbose=True)\n",
    "\n",
    "    print(f\"Fit time: {end_time - start_time} seconds\")\n",
    "    print(f\"Predict time: {time.time() - end_time} seconds\")\n"
   ]
  },
  {
   "cell_type": "code",
   "execution_count": 14,
   "metadata": {},
   "outputs": [
    {
     "name": "stdout",
     "output_type": "stream",
     "text": [
      "\n",
      "Preprocessing: Oversampling\n",
      "PARAMETERS:\n",
      "\tCRITERION: Entropy\n",
      "\tTYPE CRITERION: Best\n",
      "\tMAX DEPTH: 10\n",
      "\tMIN SAMPLES SPLIT: 20\n",
      "\tNUM THRESHOLDS NUMERICAL ATTR: 6\n",
      "\n",
      "PERFORMANCES:\n",
      "    F1 score: 0.000264     Accuracy: 0.843558\n",
      "   Precision: 0.000133       Recall: 0.019590\n",
      "          TP:       21           TN:   856755\n",
      "          FP:   157842           FN:     1051\n",
      "         TPR: 0.019590          FPR: 0.155571\n",
      "Fit time: 2488.8693091869354 seconds\n",
      "Predict time: 178.57364797592163 seconds\n"
     ]
    }
   ],
   "source": [
    "print(\"\\nPreprocessing: Oversampling\")\n",
    "df_train, df_test = original_df_train, original_df_test\n",
    "df_train = oversampling(df_train, VERBOSE=False)\n",
    "custom_alg_experiment(df_train, df_test, \"oversampling\")"
   ]
  },
  {
   "cell_type": "markdown",
   "metadata": {},
   "source": [
    "### C4.5\n"
   ]
  },
  {
   "cell_type": "code",
   "execution_count": 6,
   "metadata": {},
   "outputs": [],
   "source": [
    "\n",
    "def c45_experiment(df_train, df_test, type):\n",
    "    X_train, y_train = get_X_and_Y(df_train, verbose=VERBOSE)\n",
    "    X_test, y_test = get_X_and_Y(df_test, verbose=VERBOSE)\n",
    "    \n",
    "    start_time = time.time()\n",
    "    decision_tree = DecisionTreeC45()\n",
    "    decision_tree.fit(X_train, y_train)\n",
    "    end_time = time.time()\n",
    "    decision_tree.create_dot_files(filename=f\"tree-c45-{type}\", generate_png=True, view=VIEW)\n",
    "    print(\"PERFORMANCES:\")\n",
    "    predictions = list(decision_tree.predict_test(X_test))\n",
    "        \n",
    "    calculate_performances(predictions, y_test, \"c45\", verbose=True)\n",
    "\n",
    "    print(\"\\nFit time: %.2f minutes\" % ((end_time - start_time) / 60))\n",
    "    print(\"Predict time: %.2f minutes\" % ((time.time() - end_time) / 60))\n"
   ]
  },
  {
   "cell_type": "code",
   "execution_count": 8,
   "metadata": {},
   "outputs": [
    {
     "name": "stdout",
     "output_type": "stream",
     "text": [
      "\u001b[94mPreprocessing: Undersampling\u001b[0m\n",
      "PARAMETERS:\n",
      "\tMAX DEPTH: 20\n",
      "\n",
      "PERFORMANCES:\n",
      "    F1 score: 0.000499     Accuracy: 0.720203\n",
      "   Precision: 0.000251       Recall: 0.066231\n",
      "          TP:       71           TN:   731417\n",
      "          FP:   283180           FN:     1001\n",
      "         TPR: 0.066231          FPR: 0.279106\n",
      "\n",
      "Fit time: 0.05 minutes\n",
      "Predict time: 1.74 minutes\n"
     ]
    }
   ],
   "source": [
    "printLBlue(\"Preprocessing: Undersampling\")\n",
    "df_train, df_test = original_df_train, original_df_test\n",
    "df_train = undersampling(df_train, VERBOSE=False)\n",
    "c45_experiment(df_train, df_test, \"undersampling\")"
   ]
  },
  {
   "cell_type": "code",
   "execution_count": 9,
   "metadata": {},
   "outputs": [
    {
     "name": "stdout",
     "output_type": "stream",
     "text": [
      "\u001b[94mPreprocessing: Oversampling\u001b[0m\n",
      "PARAMETERS:\n",
      "\tMAX DEPTH: 20\n",
      "\n",
      "PERFORMANCES:\n",
      "    F1 score: 0.000316     Accuracy: 0.738305\n",
      "   Precision: 0.000159       Recall: 0.039179\n",
      "          TP:       42           TN:   749832\n",
      "          FP:   264765           FN:     1030\n",
      "         TPR: 0.039179          FPR: 0.260956\n",
      "\n",
      "Fit time: 34.12 minutes\n",
      "Predict time: 2.01 minutes\n"
     ]
    }
   ],
   "source": [
    "printLBlue(\"Preprocessing: Oversampling\")\n",
    "df_train, df_test = original_df_train, original_df_test\n",
    "df_train = oversampling(df_train, VERBOSE=False)\n",
    "c45_experiment(df_train, df_test, \"oversampling\")"
   ]
  },
  {
   "cell_type": "code",
   "execution_count": null,
   "metadata": {},
   "outputs": [],
   "source": []
  }
 ],
 "metadata": {
  "kernelspec": {
   "display_name": "Python 3 (ipykernel)",
   "language": "python",
   "name": "python3"
  },
  "language_info": {
   "codemirror_mode": {
    "name": "ipython",
    "version": 3
   },
   "file_extension": ".py",
   "mimetype": "text/x-python",
   "name": "python",
   "nbconvert_exporter": "python",
   "pygments_lexer": "ipython3",
   "version": "3.10.5"
  },
  "varInspector": {
   "cols": {
    "lenName": 16,
    "lenType": 16,
    "lenVar": 40
   },
   "kernels_config": {
    "python": {
     "delete_cmd_postfix": "",
     "delete_cmd_prefix": "del ",
     "library": "var_list.py",
     "varRefreshCmd": "print(var_dic_list())"
    },
    "r": {
     "delete_cmd_postfix": ") ",
     "delete_cmd_prefix": "rm(",
     "library": "var_list.r",
     "varRefreshCmd": "cat(var_dic_list()) "
    }
   },
   "types_to_exclude": [
    "module",
    "function",
    "builtin_function_or_method",
    "instance",
    "_Feature"
   ],
   "window_display": false
  }
 },
 "nbformat": 4,
 "nbformat_minor": 2
}
