{
 "cells": [
  {
   "cell_type": "code",
   "execution_count": null,
   "id": "f364894d",
   "metadata": {},
   "outputs": [],
   "source": [
    "if 'google.colab' in str(get_ipython()):\n",
    "    GITHUB_TOKEN = \"\"\n",
    "    !rm -rf anti_money_laundering\n",
    "    !git clone https://{GITHUB_TOKEN}@github.com/FedericoBruzzone/anti_money_laundering.git\n",
    "    !mv anti_money_laundering/* .\n",
    "    !rm -rf anti_money_laundering"
   ]
  },
  {
   "cell_type": "code",
   "execution_count": null,
   "id": "42222b2f",
   "metadata": {},
   "outputs": [],
   "source": [
    "import os\n",
    "from dotenv import load_dotenv\n",
    "\n",
    "load_dotenv()\n",
    "\n",
    "os.environ['KAGGLE_USERNAME'] = os.getenv(\"KAGGLE_USER\")\n",
    "os.environ['KAGGLE_KEY'] = os.getenv('KAGGLE_KEY')\n",
    "!cd datasets\n",
    "!kaggle datasets download -d {os.getenv('KAGGLE_DATASET_LINK')}\n",
    "!cd .."
   ]
  },
  {
   "cell_type": "code",
   "execution_count": null,
   "id": "1629fafe",
   "metadata": {},
   "outputs": [],
   "source": [
    "import src.decision_tree.mytest as mytest\n",
    "mytest.print_hello()\n",
    "mytest.print_goodbye()"
   ]
  },
  {
   "cell_type": "code",
   "execution_count": null,
   "id": "4cc6b830",
   "metadata": {},
   "outputs": [],
   "source": [
    "mytest.plot_first_graph()"
   ]
  }
 ],
 "metadata": {
  "kernelspec": {
   "display_name": "Python 3 (ipykernel)",
   "language": "python",
   "name": "python3"
  },
  "language_info": {
   "codemirror_mode": {
    "name": "ipython",
    "version": 3
   },
   "file_extension": ".py",
   "mimetype": "text/x-python",
   "name": "python",
   "nbconvert_exporter": "python",
   "pygments_lexer": "ipython3",
   "version": "3.10.6"
  },
  "varInspector": {
   "cols": {
    "lenName": 16,
    "lenType": 16,
    "lenVar": 40
   },
   "kernels_config": {
    "python": {
     "delete_cmd_postfix": "",
     "delete_cmd_prefix": "del ",
     "library": "var_list.py",
     "varRefreshCmd": "print(var_dic_list())"
    },
    "r": {
     "delete_cmd_postfix": ") ",
     "delete_cmd_prefix": "rm(",
     "library": "var_list.r",
     "varRefreshCmd": "cat(var_dic_list()) "
    }
   },
   "types_to_exclude": [
    "module",
    "function",
    "builtin_function_or_method",
    "instance",
    "_Feature"
   ],
   "window_display": false
  }
 },
 "nbformat": 4,
 "nbformat_minor": 5
}
